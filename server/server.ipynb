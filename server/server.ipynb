{
 "cells": [
  {
   "cell_type": "code",
   "execution_count": null,
   "metadata": {
    "scrolled": true
   },
   "outputs": [
    {
     "name": "stdout",
     "output_type": "stream",
     "text": [
      "Wed May 30 22:55:13 2018 Server Starts - localhost:1111\n"
     ]
    },
    {
     "name": "stderr",
     "output_type": "stream",
     "text": [
      "127.0.0.1 - - [30/May/2018 22:55:23] \"POST /identify_and_search HTTP/1.1\" 200 -\n"
     ]
    },
    {
     "name": "stdout",
     "output_type": "stream",
     "text": [
      "0.2855679179653401\n"
     ]
    },
    {
     "name": "stderr",
     "output_type": "stream",
     "text": [
      "127.0.0.1 - - [30/May/2018 22:55:30] \"POST /update_record HTTP/1.1\" 200 -\n"
     ]
    },
    {
     "name": "stdout",
     "output_type": "stream",
     "text": [
      "<<row>>=<<row>>Дата регистрации=2018.05.30 22:51:56<<row>>Дата обновления=2018.05.30 22:55:30<<row>>Дата обновления=2018.05.30 22:55:30<<row>>Дата обновления=2018.05.30 22:55:30\n",
      "2018.05.30 22:51:56\n"
     ]
    },
    {
     "name": "stderr",
     "output_type": "stream",
     "text": [
      "127.0.0.1 - - [30/May/2018 22:55:31] \"POST /identify_and_search HTTP/1.1\" 200 -\n"
     ]
    },
    {
     "name": "stdout",
     "output_type": "stream",
     "text": [
      "0.26143524184503286\n"
     ]
    },
    {
     "name": "stderr",
     "output_type": "stream",
     "text": [
      "127.0.0.1 - - [30/May/2018 22:55:44] \"POST /delete_record HTTP/1.1\" 200 -\n"
     ]
    },
    {
     "name": "stdout",
     "output_type": "stream",
     "text": [
      "3041\n"
     ]
    },
    {
     "name": "stderr",
     "output_type": "stream",
     "text": [
      "127.0.0.1 - - [30/May/2018 22:55:53] \"POST /append_to_db HTTP/1.1\" 200 -\n"
     ]
    },
    {
     "name": "stdout",
     "output_type": "stream",
     "text": [
      "<<row>>=<<row>>Дата регистрации=2018.05.30 22:55:53\n",
      "2018.05.30 22:55:53\n",
      "images\\SwMWmdxFFc5v65H7XcIM.png\n"
     ]
    },
    {
     "name": "stderr",
     "output_type": "stream",
     "text": [
      "127.0.0.1 - - [30/May/2018 22:56:02] \"POST /identify_and_search HTTP/1.1\" 200 -\n"
     ]
    },
    {
     "name": "stdout",
     "output_type": "stream",
     "text": [
      "0.23112128332202403\n"
     ]
    },
    {
     "name": "stderr",
     "output_type": "stream",
     "text": [
      "127.0.0.1 - - [30/May/2018 22:56:08] \"POST /update_record HTTP/1.1\" 200 -\n"
     ]
    },
    {
     "name": "stdout",
     "output_type": "stream",
     "text": [
      "<<row>>=<<row>>Дата регистрации=2018.05.30 22:55:53<<row>>Дата обновления=2018.05.30 22:56:08\n",
      "2018.05.30 22:55:53\n"
     ]
    },
    {
     "name": "stderr",
     "output_type": "stream",
     "text": [
      "127.0.0.1 - - [30/May/2018 22:56:10] \"POST /identify_and_search HTTP/1.1\" 200 -\n"
     ]
    },
    {
     "name": "stdout",
     "output_type": "stream",
     "text": [
      "0.2501265012673036\n"
     ]
    },
    {
     "name": "stderr",
     "output_type": "stream",
     "text": [
      "127.0.0.1 - - [30/May/2018 22:56:26] \"POST /identify_and_search HTTP/1.1\" 200 -\n"
     ]
    },
    {
     "name": "stdout",
     "output_type": "stream",
     "text": [
      "0.20654495680359114\n"
     ]
    },
    {
     "name": "stderr",
     "output_type": "stream",
     "text": [
      "127.0.0.1 - - [30/May/2018 22:56:33] \"POST /identify_and_search HTTP/1.1\" 200 -\n"
     ]
    },
    {
     "name": "stdout",
     "output_type": "stream",
     "text": [
      "0.21555286374867882\n",
      "<<row>>=<<row>>Дата регистрации=2018.05.30 22:55:53<<row>>Дата обновления=2018.05.30 22:56:37\n",
      "2018.05.30 22:55:53\n"
     ]
    },
    {
     "name": "stderr",
     "output_type": "stream",
     "text": [
      "127.0.0.1 - - [30/May/2018 22:56:37] \"POST /update_record HTTP/1.1\" 200 -\n",
      "127.0.0.1 - - [30/May/2018 22:56:40] \"POST /identify_and_search HTTP/1.1\" 200 -\n"
     ]
    },
    {
     "name": "stdout",
     "output_type": "stream",
     "text": [
      "0.24829634099123055\n"
     ]
    },
    {
     "name": "stderr",
     "output_type": "stream",
     "text": [
      "127.0.0.1 - - [30/May/2018 22:56:46] \"GET / HTTP/1.1\" 200 -\n",
      "127.0.0.1 - - [30/May/2018 22:56:52] \"POST /full_text_search HTTP/1.1\" 200 -\n"
     ]
    },
    {
     "name": "stdout",
     "output_type": "stream",
     "text": [
      "408950\n"
     ]
    },
    {
     "name": "stderr",
     "output_type": "stream",
     "text": [
      "127.0.0.1 - - [30/May/2018 22:56:59] \"POST /update_record HTTP/1.1\" 200 -\n"
     ]
    },
    {
     "name": "stdout",
     "output_type": "stream",
     "text": [
      "<<row>>=<<row>>Дата регистрации=2018.05.30 22:55:53<<row>>Дата обновления=2018.05.30 22:56:59\n",
      "2018.05.30 22:55:53\n"
     ]
    },
    {
     "name": "stderr",
     "output_type": "stream",
     "text": [
      "127.0.0.1 - - [30/May/2018 22:57:05] \"POST /full_text_search HTTP/1.1\" 200 -\n"
     ]
    },
    {
     "name": "stdout",
     "output_type": "stream",
     "text": [
      "408950\n"
     ]
    },
    {
     "name": "stderr",
     "output_type": "stream",
     "text": [
      "127.0.0.1 - - [30/May/2018 22:57:07] \"POST /full_text_search HTTP/1.1\" 200 -\n"
     ]
    },
    {
     "name": "stdout",
     "output_type": "stream",
     "text": [
      "408950\n"
     ]
    },
    {
     "name": "stderr",
     "output_type": "stream",
     "text": [
      "127.0.0.1 - - [30/May/2018 22:57:07] \"POST /update_record HTTP/1.1\" 200 -\n"
     ]
    },
    {
     "name": "stdout",
     "output_type": "stream",
     "text": [
      "<<row>>=<<row>>Дата регистрации=2018.05.30 22:55:53<<row>>Дата обновления=2018.05.30 22:57:07\n",
      "2018.05.30 22:55:53\n"
     ]
    },
    {
     "name": "stderr",
     "output_type": "stream",
     "text": [
      "127.0.0.1 - - [30/May/2018 22:57:09] \"POST /full_text_search HTTP/1.1\" 200 -\n"
     ]
    },
    {
     "name": "stdout",
     "output_type": "stream",
     "text": [
      "408950\n"
     ]
    },
    {
     "name": "stderr",
     "output_type": "stream",
     "text": [
      "127.0.0.1 - - [30/May/2018 22:57:10] \"POST /update_record HTTP/1.1\" 200 -\n"
     ]
    },
    {
     "name": "stdout",
     "output_type": "stream",
     "text": [
      "<<row>>=<<row>>Дата регистрации=2018.05.30 22:55:53<<row>>Дата обновления=2018.05.30 22:57:10\n",
      "2018.05.30 22:55:53\n"
     ]
    },
    {
     "name": "stderr",
     "output_type": "stream",
     "text": [
      "127.0.0.1 - - [30/May/2018 22:57:11] \"POST /full_text_search HTTP/1.1\" 200 -\n"
     ]
    },
    {
     "name": "stdout",
     "output_type": "stream",
     "text": [
      "408950\n"
     ]
    },
    {
     "name": "stderr",
     "output_type": "stream",
     "text": [
      "127.0.0.1 - - [30/May/2018 22:57:12] \"POST /update_record HTTP/1.1\" 200 -\n"
     ]
    },
    {
     "name": "stdout",
     "output_type": "stream",
     "text": [
      "<<row>>=<<row>>Дата регистрации=2018.05.30 22:55:53<<row>>Дата обновления=2018.05.30 22:57:12\n",
      "2018.05.30 22:55:53\n"
     ]
    },
    {
     "name": "stderr",
     "output_type": "stream",
     "text": [
      "127.0.0.1 - - [30/May/2018 22:57:13] \"POST /full_text_search HTTP/1.1\" 200 -\n"
     ]
    },
    {
     "name": "stdout",
     "output_type": "stream",
     "text": [
      "408950\n"
     ]
    },
    {
     "name": "stderr",
     "output_type": "stream",
     "text": [
      "127.0.0.1 - - [30/May/2018 22:57:36] \"POST /identify_and_search HTTP/1.1\" 200 -\n"
     ]
    },
    {
     "name": "stdout",
     "output_type": "stream",
     "text": [
      "0.19975646361617938\n"
     ]
    },
    {
     "name": "stderr",
     "output_type": "stream",
     "text": [
      "127.0.0.1 - - [30/May/2018 23:03:49] \"POST /identify_and_search HTTP/1.1\" 200 -\n"
     ]
    },
    {
     "name": "stdout",
     "output_type": "stream",
     "text": [
      "0.29223787191880235\n"
     ]
    },
    {
     "name": "stderr",
     "output_type": "stream",
     "text": [
      "127.0.0.1 - - [30/May/2018 23:06:47] \"POST /identify_and_search HTTP/1.1\" 200 -\n"
     ]
    },
    {
     "name": "stdout",
     "output_type": "stream",
     "text": [
      "0.2771043449228005\n"
     ]
    },
    {
     "name": "stderr",
     "output_type": "stream",
     "text": [
      "127.0.0.1 - - [30/May/2018 23:07:03] \"POST /identify_and_search HTTP/1.1\" 200 -\n",
      "127.0.0.1 - - [30/May/2018 23:12:02] \"POST /identify_and_search HTTP/1.1\" 200 -\n"
     ]
    },
    {
     "name": "stdout",
     "output_type": "stream",
     "text": [
      "0.3375303781372064\n"
     ]
    },
    {
     "name": "stderr",
     "output_type": "stream",
     "text": [
      "127.0.0.1 - - [30/May/2018 23:17:42] \"POST /identify_and_search HTTP/1.1\" 200 -\n"
     ]
    },
    {
     "name": "stdout",
     "output_type": "stream",
     "text": [
      "0.29617443521333264\n"
     ]
    },
    {
     "name": "stderr",
     "output_type": "stream",
     "text": [
      "127.0.0.1 - - [30/May/2018 23:17:47] \"POST /identify_and_search HTTP/1.1\" 200 -\n"
     ]
    },
    {
     "name": "stdout",
     "output_type": "stream",
     "text": [
      "0.29935833559618613\n"
     ]
    },
    {
     "name": "stderr",
     "output_type": "stream",
     "text": [
      "127.0.0.1 - - [30/May/2018 23:18:10] \"POST /identify_and_search HTTP/1.1\" 200 -\n"
     ]
    },
    {
     "name": "stdout",
     "output_type": "stream",
     "text": [
      "0.29823822414736223\n"
     ]
    },
    {
     "name": "stderr",
     "output_type": "stream",
     "text": [
      "127.0.0.1 - - [30/May/2018 23:19:01] \"POST /identify_and_search HTTP/1.1\" 200 -\n"
     ]
    },
    {
     "name": "stdout",
     "output_type": "stream",
     "text": [
      "0.3875089322714098\n"
     ]
    },
    {
     "name": "stderr",
     "output_type": "stream",
     "text": [
      "127.0.0.1 - - [30/May/2018 23:19:05] \"POST /identify_and_search HTTP/1.1\" 200 -\n"
     ]
    },
    {
     "name": "stdout",
     "output_type": "stream",
     "text": [
      "0.30693904219531\n"
     ]
    },
    {
     "name": "stderr",
     "output_type": "stream",
     "text": [
      "127.0.0.1 - - [30/May/2018 23:20:13] \"POST /identify_and_search HTTP/1.1\" 200 -\n"
     ]
    },
    {
     "name": "stdout",
     "output_type": "stream",
     "text": [
      "0.41782709997691153\n"
     ]
    },
    {
     "name": "stderr",
     "output_type": "stream",
     "text": [
      "127.0.0.1 - - [30/May/2018 23:20:17] \"POST /identify_and_search HTTP/1.1\" 200 -\n"
     ]
    },
    {
     "name": "stdout",
     "output_type": "stream",
     "text": [
      "0.3561757487957858\n"
     ]
    },
    {
     "name": "stderr",
     "output_type": "stream",
     "text": [
      "127.0.0.1 - - [30/May/2018 23:23:10] \"POST /identify_and_search HTTP/1.1\" 200 -\n"
     ]
    },
    {
     "name": "stdout",
     "output_type": "stream",
     "text": [
      "0.35753399487002746\n"
     ]
    },
    {
     "name": "stderr",
     "output_type": "stream",
     "text": [
      "127.0.0.1 - - [30/May/2018 23:23:16] \"POST /identify_and_search HTTP/1.1\" 200 -\n"
     ]
    },
    {
     "name": "stdout",
     "output_type": "stream",
     "text": [
      "0.31846522276009337\n"
     ]
    },
    {
     "name": "stderr",
     "output_type": "stream",
     "text": [
      "127.0.0.1 - - [30/May/2018 23:23:21] \"POST /identify_and_search HTTP/1.1\" 200 -\n"
     ]
    },
    {
     "name": "stdout",
     "output_type": "stream",
     "text": [
      "0.3662297119398337\n"
     ]
    },
    {
     "name": "stderr",
     "output_type": "stream",
     "text": [
      "127.0.0.1 - - [30/May/2018 23:23:51] \"POST /identify_and_search HTTP/1.1\" 200 -\n"
     ]
    },
    {
     "name": "stdout",
     "output_type": "stream",
     "text": [
      "0.3168863673042479\n"
     ]
    },
    {
     "name": "stderr",
     "output_type": "stream",
     "text": [
      "127.0.0.1 - - [30/May/2018 23:23:59] \"POST /identify_and_search HTTP/1.1\" 200 -\n"
     ]
    },
    {
     "name": "stdout",
     "output_type": "stream",
     "text": [
      "0.45225640483548696\n"
     ]
    },
    {
     "name": "stderr",
     "output_type": "stream",
     "text": [
      "127.0.0.1 - - [30/May/2018 23:24:05] \"POST /identify_and_search HTTP/1.1\" 200 -\n",
      "127.0.0.1 - - [30/May/2018 23:24:08] \"POST /identify_and_search HTTP/1.1\" 200 -\n"
     ]
    },
    {
     "name": "stdout",
     "output_type": "stream",
     "text": [
      "0.48598439068364746\n"
     ]
    },
    {
     "name": "stderr",
     "output_type": "stream",
     "text": [
      "127.0.0.1 - - [30/May/2018 23:24:12] \"POST /identify_and_search HTTP/1.1\" 200 -\n"
     ]
    },
    {
     "name": "stdout",
     "output_type": "stream",
     "text": [
      "0.2701927328619374\n"
     ]
    },
    {
     "name": "stderr",
     "output_type": "stream",
     "text": [
      "127.0.0.1 - - [30/May/2018 23:24:33] \"POST /identify_and_search HTTP/1.1\" 200 -\n"
     ]
    },
    {
     "name": "stdout",
     "output_type": "stream",
     "text": [
      "0.2703087416284031\n"
     ]
    },
    {
     "name": "stderr",
     "output_type": "stream",
     "text": [
      "----------------------------------------\n",
      "Exception happened during processing of request from ('127.0.0.1', 6467)\n",
      "Traceback (most recent call last):\n",
      "  File \"C:\\ProgramData\\Anaconda3\\lib\\socketserver.py\", line 317, in _handle_request_noblock\n",
      "    self.process_request(request, client_address)\n",
      "  File \"C:\\ProgramData\\Anaconda3\\lib\\socketserver.py\", line 348, in process_request\n",
      "    self.finish_request(request, client_address)\n",
      "  File \"C:\\ProgramData\\Anaconda3\\lib\\socketserver.py\", line 361, in finish_request\n",
      "    self.RequestHandlerClass(request, client_address, self)\n",
      "  File \"C:\\ProgramData\\Anaconda3\\lib\\socketserver.py\", line 696, in __init__\n",
      "    self.handle()\n",
      "  File \"C:\\ProgramData\\Anaconda3\\lib\\http\\server.py\", line 418, in handle\n",
      "    self.handle_one_request()\n",
      "  File \"C:\\ProgramData\\Anaconda3\\lib\\http\\server.py\", line 406, in handle_one_request\n",
      "    method()\n",
      "  File \"<ipython-input-31-afbeec8f96c7>\", line 258, in do_POST\n",
      "    self.wfile.write(bytes(str(len(sendingString)) + \"<length>\" + sendingString, 'utf-8').decode('unicode-escape').encode('ISO-8859-1'))\n",
      "  File \"C:\\ProgramData\\Anaconda3\\lib\\socketserver.py\", line 775, in write\n",
      "    self._sock.sendall(b)\n",
      "ConnectionResetError: [WinError 10054] Удаленный хост принудительно разорвал существующее подключение\n",
      "----------------------------------------\n",
      "127.0.0.1 - - [30/May/2018 23:27:56] \"POST /identify_and_search HTTP/1.1\" 200 -\n"
     ]
    },
    {
     "name": "stdout",
     "output_type": "stream",
     "text": [
      "0.33188553515830677\n"
     ]
    },
    {
     "name": "stderr",
     "output_type": "stream",
     "text": [
      "127.0.0.1 - - [30/May/2018 23:28:01] \"POST /identify_and_search HTTP/1.1\" 200 -\n"
     ]
    },
    {
     "name": "stdout",
     "output_type": "stream",
     "text": [
      "0.23067417944115867\n"
     ]
    },
    {
     "name": "stderr",
     "output_type": "stream",
     "text": [
      "127.0.0.1 - - [30/May/2018 23:28:15] \"POST /identify_and_search HTTP/1.1\" 200 -\n"
     ]
    },
    {
     "name": "stdout",
     "output_type": "stream",
     "text": [
      "0.2679258051761131\n"
     ]
    },
    {
     "name": "stderr",
     "output_type": "stream",
     "text": [
      "127.0.0.1 - - [30/May/2018 23:31:45] \"POST /identify_and_search HTTP/1.1\" 200 -\n"
     ]
    },
    {
     "name": "stdout",
     "output_type": "stream",
     "text": [
      "0.33873932519948335\n",
      "<<row>>=<<row>>Дата регистрации=2018.05.30 23:31:49\n",
      "2018.05.30 23:31:49\n"
     ]
    },
    {
     "name": "stderr",
     "output_type": "stream",
     "text": [
      "127.0.0.1 - - [30/May/2018 23:31:49] \"POST /append_to_db HTTP/1.1\" 200 -\n"
     ]
    },
    {
     "name": "stdout",
     "output_type": "stream",
     "text": [
      "images\\xIuAESecr4HgmV8fF1wV.png\n"
     ]
    },
    {
     "name": "stderr",
     "output_type": "stream",
     "text": [
      "127.0.0.1 - - [30/May/2018 23:31:58] \"POST /identify_and_search HTTP/1.1\" 200 -\n",
      "127.0.0.1 - - [30/May/2018 23:32:02] \"POST /identify_and_search HTTP/1.1\" 200 -\n",
      "127.0.0.1 - - [30/May/2018 23:32:05] \"POST /append_to_db HTTP/1.1\" 200 -\n"
     ]
    },
    {
     "name": "stdout",
     "output_type": "stream",
     "text": [
      "<<row>>=<<row>>Дата регистрации=2018.05.30 23:32:05\n",
      "2018.05.30 23:32:05\n",
      "images\\qgrGNDRrPSdYU8Kd0KbY.png\n"
     ]
    },
    {
     "name": "stderr",
     "output_type": "stream",
     "text": [
      "127.0.0.1 - - [30/May/2018 23:32:09] \"POST /identify_and_search HTTP/1.1\" 200 -\n"
     ]
    },
    {
     "name": "stdout",
     "output_type": "stream",
     "text": [
      "0.43575095982943046\n",
      "0.25349175263501256\n",
      "0.3259259540570669\n",
      "<<row>>=<<row>>Дата регистрации=2018.05.30 23:32:14\n",
      "2018.05.30 23:32:14\n"
     ]
    },
    {
     "name": "stderr",
     "output_type": "stream",
     "text": [
      "127.0.0.1 - - [30/May/2018 23:32:14] \"POST /append_to_db HTTP/1.1\" 200 -\n"
     ]
    },
    {
     "name": "stdout",
     "output_type": "stream",
     "text": [
      "images\\4s8NrBHktMVltUInojds.png\n"
     ]
    },
    {
     "name": "stderr",
     "output_type": "stream",
     "text": [
      "127.0.0.1 - - [30/May/2018 23:32:19] \"POST /identify_and_search HTTP/1.1\" 200 -\n"
     ]
    },
    {
     "name": "stdout",
     "output_type": "stream",
     "text": [
      "0.44497377404308563\n",
      "0.29628883786180765\n",
      "0.33273618861725157\n",
      "0.27563484952343237\n"
     ]
    },
    {
     "name": "stderr",
     "output_type": "stream",
     "text": [
      "127.0.0.1 - - [30/May/2018 23:32:23] \"POST /identify_and_search HTTP/1.1\" 200 -\n"
     ]
    },
    {
     "name": "stdout",
     "output_type": "stream",
     "text": [
      "0.4160526789059631\n",
      "0.30704240985751524\n",
      "0.2951118585721494\n",
      "0.27174350726688806\n",
      "<<row>>=<<row>>Дата регистрации=2018.05.30 23:32:28\n",
      "2018.05.30 23:32:28\n"
     ]
    },
    {
     "name": "stderr",
     "output_type": "stream",
     "text": [
      "127.0.0.1 - - [30/May/2018 23:32:28] \"POST /append_to_db HTTP/1.1\" 200 -\n"
     ]
    },
    {
     "name": "stdout",
     "output_type": "stream",
     "text": [
      "images\\6nGRdSEWexnV3FowCb2a.png\n"
     ]
    },
    {
     "name": "stderr",
     "output_type": "stream",
     "text": [
      "127.0.0.1 - - [30/May/2018 23:32:33] \"POST /append_to_db HTTP/1.1\" 200 -\n"
     ]
    },
    {
     "name": "stdout",
     "output_type": "stream",
     "text": [
      "<<row>>=<<row>>Дата регистрации=2018.05.30 23:32:33\n",
      "2018.05.30 23:32:33\n",
      "images\\aUDbEyVSpXLU4Wqjjc1b.png\n"
     ]
    },
    {
     "name": "stderr",
     "output_type": "stream",
     "text": [
      "127.0.0.1 - - [30/May/2018 23:32:40] \"POST /append_to_db HTTP/1.1\" 200 -\n"
     ]
    },
    {
     "name": "stdout",
     "output_type": "stream",
     "text": [
      "<<row>>=<<row>>Дата регистрации=2018.05.30 23:32:40\n",
      "2018.05.30 23:32:40\n",
      "images\\Kt6jddHKFp9tkfQkCcjG.png\n"
     ]
    },
    {
     "name": "stderr",
     "output_type": "stream",
     "text": [
      "127.0.0.1 - - [30/May/2018 23:32:46] \"POST /append_to_db HTTP/1.1\" 200 -\n"
     ]
    },
    {
     "name": "stdout",
     "output_type": "stream",
     "text": [
      "<<row>>=<<row>>Дата регистрации=2018.05.30 23:32:46\n",
      "2018.05.30 23:32:46\n",
      "images\\C90DaTROabF9H04TIYAM.png\n"
     ]
    },
    {
     "name": "stderr",
     "output_type": "stream",
     "text": [
      "127.0.0.1 - - [30/May/2018 23:32:51] \"POST /append_to_db HTTP/1.1\" 200 -\n"
     ]
    },
    {
     "name": "stdout",
     "output_type": "stream",
     "text": [
      "<<row>>=<<row>>Дата регистрации=2018.05.30 23:32:51\n",
      "2018.05.30 23:32:51\n",
      "images\\sxtrmKM9rHNAbSDotk12.png\n"
     ]
    },
    {
     "name": "stderr",
     "output_type": "stream",
     "text": [
      "127.0.0.1 - - [30/May/2018 23:32:55] \"POST /append_to_db HTTP/1.1\" 200 -\n"
     ]
    },
    {
     "name": "stdout",
     "output_type": "stream",
     "text": [
      "<<row>>=<<row>>Дата регистрации=2018.05.30 23:32:55\n",
      "2018.05.30 23:32:55\n",
      "images\\OvL64w8YgbNrJY7uw1cI.png\n"
     ]
    },
    {
     "name": "stderr",
     "output_type": "stream",
     "text": [
      "127.0.0.1 - - [30/May/2018 23:33:00] \"POST /append_to_db HTTP/1.1\" 200 -\n"
     ]
    },
    {
     "name": "stdout",
     "output_type": "stream",
     "text": [
      "<<row>>=<<row>>Дата регистрации=2018.05.30 23:33:00\n",
      "2018.05.30 23:33:00\n",
      "images\\r6pQr36l1MC0rf1Orijp.png\n"
     ]
    },
    {
     "name": "stderr",
     "output_type": "stream",
     "text": [
      "127.0.0.1 - - [30/May/2018 23:33:05] \"POST /append_to_db HTTP/1.1\" 200 -\n"
     ]
    },
    {
     "name": "stdout",
     "output_type": "stream",
     "text": [
      "<<row>>=<<row>>Дата регистрации=2018.05.30 23:33:05\n",
      "2018.05.30 23:33:05\n",
      "images\\1vHRRC8qFaS65vcCpM58.png\n"
     ]
    },
    {
     "name": "stderr",
     "output_type": "stream",
     "text": [
      "127.0.0.1 - - [30/May/2018 23:33:09] \"POST /identify_and_search HTTP/1.1\" 200 -\n"
     ]
    },
    {
     "name": "stdout",
     "output_type": "stream",
     "text": [
      "0.493787439891542\n",
      "0.3802051565024531\n",
      "0.379818430444883\n",
      "0.3514046535309105\n",
      "0.3873143979589855\n",
      "0.41556124106586\n",
      "0.38742041672355415\n",
      "0.3579730941953304\n",
      "0.370313829718891\n",
      "0.3772836045935034\n",
      "0.3578874084796542\n",
      "0.3867971922492174\n"
     ]
    },
    {
     "name": "stderr",
     "output_type": "stream",
     "text": [
      "127.0.0.1 - - [30/May/2018 23:33:14] \"POST /identify_and_search HTTP/1.1\" 200 -\n",
      "127.0.0.1 - - [30/May/2018 23:33:19] \"POST /identify_and_search HTTP/1.1\" 200 -\n",
      "127.0.0.1 - - [30/May/2018 23:33:22] \"POST /identify_and_search HTTP/1.1\" 200 -\n"
     ]
    },
    {
     "name": "stdout",
     "output_type": "stream",
     "text": [
      "0.36605393866684743\n",
      "0.2768754401768731\n",
      "0.3130271426764064\n",
      "0.3437730877355904\n",
      "0.26726529186670855\n",
      "0.231758444762966\n",
      "0.29847522853799746\n",
      "0.25769538175960155\n",
      "0.314042731294551\n",
      "0.2542464686855239\n",
      "0.32545619324048913\n",
      "0.2849722612558635\n"
     ]
    },
    {
     "name": "stderr",
     "output_type": "stream",
     "text": [
      "127.0.0.1 - - [30/May/2018 23:33:30] \"GET / HTTP/1.1\" 200 -\n",
      "127.0.0.1 - - [30/May/2018 23:33:35] \"POST /full_text_search HTTP/1.1\" 200 -\n"
     ]
    },
    {
     "name": "stdout",
     "output_type": "stream",
     "text": [
      "5277856\n"
     ]
    },
    {
     "name": "stderr",
     "output_type": "stream",
     "text": [
      "127.0.0.1 - - [30/May/2018 23:33:47] \"POST /delete_record HTTP/1.1\" 200 -\n"
     ]
    },
    {
     "name": "stdout",
     "output_type": "stream",
     "text": [
      "3048\n"
     ]
    },
    {
     "name": "stderr",
     "output_type": "stream",
     "text": [
      "127.0.0.1 - - [30/May/2018 23:33:48] \"POST /delete_record HTTP/1.1\" 200 -\n"
     ]
    },
    {
     "name": "stdout",
     "output_type": "stream",
     "text": [
      "3047\n"
     ]
    },
    {
     "name": "stderr",
     "output_type": "stream",
     "text": [
      "127.0.0.1 - - [30/May/2018 23:33:50] \"POST /delete_record HTTP/1.1\" 200 -\n"
     ]
    },
    {
     "name": "stdout",
     "output_type": "stream",
     "text": [
      "3046\n"
     ]
    },
    {
     "name": "stderr",
     "output_type": "stream",
     "text": [
      "127.0.0.1 - - [30/May/2018 23:33:51] \"POST /delete_record HTTP/1.1\" 200 -\n"
     ]
    },
    {
     "name": "stdout",
     "output_type": "stream",
     "text": [
      "3045\n"
     ]
    },
    {
     "name": "stderr",
     "output_type": "stream",
     "text": [
      "127.0.0.1 - - [30/May/2018 23:33:52] \"POST /delete_record HTTP/1.1\" 200 -\n"
     ]
    },
    {
     "name": "stdout",
     "output_type": "stream",
     "text": [
      "3044\n"
     ]
    },
    {
     "name": "stderr",
     "output_type": "stream",
     "text": [
      "127.0.0.1 - - [30/May/2018 23:33:52] \"POST /delete_record HTTP/1.1\" 200 -\n"
     ]
    },
    {
     "name": "stdout",
     "output_type": "stream",
     "text": [
      "3043\n"
     ]
    },
    {
     "name": "stderr",
     "output_type": "stream",
     "text": [
      "127.0.0.1 - - [30/May/2018 23:33:56] \"POST /delete_record HTTP/1.1\" 200 -\n"
     ]
    },
    {
     "name": "stdout",
     "output_type": "stream",
     "text": [
      "3053\n"
     ]
    },
    {
     "name": "stderr",
     "output_type": "stream",
     "text": [
      "127.0.0.1 - - [30/May/2018 23:33:58] \"POST /delete_record HTTP/1.1\" 200 -\n"
     ]
    },
    {
     "name": "stdout",
     "output_type": "stream",
     "text": [
      "3052\n"
     ]
    },
    {
     "name": "stderr",
     "output_type": "stream",
     "text": [
      "127.0.0.1 - - [30/May/2018 23:34:00] \"POST /delete_record HTTP/1.1\" 200 -\n"
     ]
    },
    {
     "name": "stdout",
     "output_type": "stream",
     "text": [
      "3051\n"
     ]
    },
    {
     "name": "stderr",
     "output_type": "stream",
     "text": [
      "127.0.0.1 - - [30/May/2018 23:34:01] \"POST /delete_record HTTP/1.1\" 200 -\n"
     ]
    },
    {
     "name": "stdout",
     "output_type": "stream",
     "text": [
      "3050\n"
     ]
    },
    {
     "name": "stderr",
     "output_type": "stream",
     "text": [
      "127.0.0.1 - - [30/May/2018 23:34:03] \"POST /delete_record HTTP/1.1\" 200 -\n"
     ]
    },
    {
     "name": "stdout",
     "output_type": "stream",
     "text": [
      "3049\n"
     ]
    },
    {
     "name": "stderr",
     "output_type": "stream",
     "text": [
      "127.0.0.1 - - [30/May/2018 23:38:17] \"POST /identify_and_search HTTP/1.1\" 200 -\n"
     ]
    },
    {
     "name": "stdout",
     "output_type": "stream",
     "text": [
      "0.4049216159047053\n"
     ]
    },
    {
     "name": "stderr",
     "output_type": "stream",
     "text": [
      "127.0.0.1 - - [30/May/2018 23:38:23] \"POST /identify_and_search HTTP/1.1\" 200 -\n"
     ]
    },
    {
     "name": "stdout",
     "output_type": "stream",
     "text": [
      "0.44551079537366084\n"
     ]
    },
    {
     "name": "stderr",
     "output_type": "stream",
     "text": [
      "127.0.0.1 - - [30/May/2018 23:38:30] \"POST /identify_and_search HTTP/1.1\" 200 -\n"
     ]
    },
    {
     "name": "stdout",
     "output_type": "stream",
     "text": [
      "0.3975104837644488\n"
     ]
    },
    {
     "name": "stderr",
     "output_type": "stream",
     "text": [
      "127.0.0.1 - - [30/May/2018 23:38:35] \"POST /identify_and_search HTTP/1.1\" 200 -\n",
      "127.0.0.1 - - [30/May/2018 23:38:39] \"POST /identify_and_search HTTP/1.1\" 200 -\n",
      "127.0.0.1 - - [30/May/2018 23:38:45] \"POST /identify_and_search HTTP/1.1\" 200 -\n"
     ]
    },
    {
     "name": "stdout",
     "output_type": "stream",
     "text": [
      "0.3886580803753855\n"
     ]
    }
   ],
   "source": [
    "#! /usr/bin/python\n",
    "# -*- coding: utf-8 -*-\n",
    "\n",
    "import time\n",
    "import io\n",
    "import cv2\n",
    "import numpy\n",
    "import re\n",
    "import sqlite3\n",
    "import dlib\n",
    "import shutil\n",
    "import zipfile\n",
    "import glob\n",
    "import os\n",
    "\n",
    "\n",
    "from PIL import Image\n",
    "from http.server import BaseHTTPRequestHandler, HTTPServer\n",
    "from os import curdir\n",
    "from os.path import join as pjoin\n",
    "from scipy.spatial import distance\n",
    "from random import choice\n",
    "from string import ascii_letters\n",
    "from string import digits\n",
    "from datetime import datetime\n",
    "\n",
    "\n",
    "\n",
    "HOST_NAME = 'localhost' # !!!REMEMBER TO CHANGE THIS!!!\n",
    "PORT_NUMBER = 1111 # Maybe set this to 9000.\n",
    "DB_NAME = 'faces.db'\n",
    "\n",
    "def searchInDb(desc):\n",
    "    conn = sqlite3.connect(DB_NAME)\n",
    "    cursor = conn.cursor()\n",
    "    selectedData = []\n",
    "    sel = cursor.execute(\"select id, desc from face\")\n",
    "    targetIndex = 0\n",
    "    for line in sel:\n",
    "        if len(desc) != 0:\n",
    "            euclidianDistanse = distance.euclidean(numpy.array(line[1].split('||'), dtype=float), numpy.array(desc.split('||'), dtype=float))\n",
    "            if euclidianDistanse < 0.6:\n",
    "                targetIndex = line[0]\n",
    "                print(euclidianDistanse)\n",
    "            else:\n",
    "                print(str(euclidianDistanse) + '> 0.6')\n",
    "    \n",
    "    result = ''\n",
    "    if targetIndex!=0:\n",
    "        sel = cursor.execute(\"select rawstring from face where id=?\", [targetIndex])\n",
    "        for line in sel:\n",
    "            result = line[0]    \n",
    "    conn.close()\n",
    "    return result, targetIndex\n",
    "\n",
    "def create_key():\n",
    "    key = \"\".join(choice(ascii_letters + digits) for i in range(20))\n",
    "    return key\n",
    "\n",
    "def appendToDb(keywords, rawstring, desc, image):\n",
    "    if desc != '':\n",
    "        conn = sqlite3.connect(DB_NAME)\n",
    "        cursor = conn.cursor()\n",
    "        sel = cursor.execute(\"SELECT key FROM face\")\n",
    "        sel_list = [i[0] for i in sel]\n",
    "        key = create_key()\n",
    "        if sel_list.count(key) > 1:\n",
    "            while True:\n",
    "                key = create_key()\n",
    "                if sel_list.count(key) == 1:\n",
    "                    break\n",
    "        \n",
    "        ins = cursor.execute(\"INSERT INTO face (rawstring, keywords, date, desc, key) VALUES( ?, ?, ?, ?, ?)\",\n",
    "                         (rawstring, keywords[0], keywords[1], desc, key))\n",
    "        conn.commit()\n",
    "        conn.close()\n",
    "        image_name = 'images\\\\%s.png' % key \n",
    "        print(image_name)\n",
    "        cv2.imwrite(image_name, image)\n",
    "\n",
    "def getDescriptor(img):\n",
    "    gray = cv2.cvtColor(img, cv2.COLOR_BGR2GRAY)\n",
    "    detector = dlib.get_frontal_face_detector()\n",
    "    dets = detector(gray, 1)\n",
    "    sp = dlib.shape_predictor('shape_predictor_68_face_landmarks.dat')\n",
    "    facerec = dlib.face_recognition_model_v1('dlib_face_recognition_resnet_model_v1.dat')\n",
    "    faceDescriptor = ''\n",
    "    for i, d in enumerate(dets):\n",
    "            if len(dets) != 2:\n",
    "                shape = sp(img, d)\n",
    "                faceDescriptor += str(facerec.compute_face_descriptor(img, shape)).replace('\\n', '||')\n",
    "                if i != len(dets) - 1:\n",
    "                    faceDescriptor += '\\n'\n",
    "    return faceDescriptor\n",
    "\n",
    "def parseDataFromPost(stringToParse):\n",
    "    print(stringToParse)\n",
    "    keywords = \"\"\n",
    "    date = \"\"\n",
    "    dateUpdate = \"\"\n",
    "    splitted = stringToParse.split('<<row>>')\n",
    "    for line in splitted:\n",
    "        if line != '':\n",
    "            keywords += line.split('=')[1] + '<<key>>' \n",
    "            if line.split('=')[0] == \"Дата регистрации\":\n",
    "                date = line.split('=')[1]\n",
    "            if line.split('=')[0] == \"Дата обновления\":\n",
    "                dateUpdate = line.split('=')[1]\n",
    "    print(date)\n",
    "    return keywords, date, dateUpdate\n",
    "\n",
    "def countOfRowsInDB():\n",
    "    conn = sqlite3.connect(DB_NAME)\n",
    "    cursor = conn.cursor()\n",
    "    count = 0\n",
    "    res = cursor.execute(\"SELECT COUNT(*) FROM face\")\n",
    "    for line in res:\n",
    "        count = line\n",
    "    conn.close()\n",
    "    return count[0]\n",
    "\n",
    "def textSearchingInDB(searchString):\n",
    "    conn = sqlite3.connect(DB_NAME)\n",
    "    cursor = conn.cursor()\n",
    "    results = []\n",
    "    res = cursor.execute(\"SELECT id, keywords FROM face\")\n",
    "    full_select = [line[::1] for line in res]\n",
    "    conn.close()\n",
    "    for line in full_select:\n",
    "        if re.search(searchString.upper(), line[1].upper()):\n",
    "            results.append(line[0])\n",
    "    if len(results) == 0:\n",
    "        return(0)\n",
    "    else:\n",
    "        return(results)\n",
    "\n",
    "def prepare_searched_result(searchString):\n",
    "    searched_results = textSearchingInDB(searchString)\n",
    "    result = []\n",
    "    images_names = []\n",
    "    ids = []\n",
    "    if searched_results != 0:\n",
    "        for line in searched_results:\n",
    "            conn = sqlite3.connect(DB_NAME)\n",
    "            cursor = conn.cursor()\n",
    "            sel = cursor.execute(\"select rawstring, key, id from face where id=?\", [line])\n",
    "            sel = [i for i in sel]\n",
    "            result.append([i[0] for i in sel])\n",
    "            images_names.append([i[1] for i in sel])\n",
    "            ids.append([i[2] for i in sel])\n",
    "            conn.close()\n",
    "        return result, images_names, ids\n",
    "    else:\n",
    "        return result, images_names, ids\n",
    "\n",
    "def prepare_searched_response(searchString):\n",
    "    string, image_names, ids = prepare_searched_result(searchString)\n",
    "    images_bytes = []\n",
    "    file_names = []\n",
    "    result = b''\n",
    "    \n",
    "    if len(string) != 0 and len(image_names) != 0 and len(ids) !=0:\n",
    "        for i, line in enumerate(image_names):\n",
    "            shutil.copy('images\\\\' + line[0] + '.png', 'archive_dir\\\\' + line[0] + '.png')\n",
    "            filename = line[0] + '.png'\n",
    "            file_names.append('archive_dir\\\\' + filename)\n",
    "            result += str(ids[i][0]).encode(\"utf-8\") + b'<id>' + string[i][0].encode(\"utf-8\") + b'<filename>' + filename.encode(\"utf-8\") + b'<end>'\n",
    "        with zipfile.ZipFile('archive_dir\\\\file.zip', 'w') as myzip:\n",
    "            for line in file_names:\n",
    "                myzip.write(line)\n",
    "        file = open('archive_dir\\\\file.zip', 'rb')\n",
    "        file_bytes = file.read()\n",
    "        file.close()\n",
    "        print(len(file_bytes))\n",
    "        files = glob.glob('archive_dir\\\\*')\n",
    "        for f in files:\n",
    "            os.remove(f)\n",
    "        return file_bytes, result.decode('unicode-escape').encode('ISO-8859-1')\n",
    "    else:\n",
    "        return file_names, result.decode('unicode-escape').encode('ISO-8859-1')\n",
    "\n",
    "def delete_record(request_string):\n",
    "    print(request_string)\n",
    "    conn = sqlite3.connect(DB_NAME)\n",
    "    cursor = conn.cursor()\n",
    "    sel = cursor.execute(\"select key from face where id=?\", (request_string,))\n",
    "    filename = ([i[0] for i in sel])\n",
    "    delete = cursor.execute(\"DELETE FROM face WHERE id=?\", (request_string,))\n",
    "    conn.commit()\n",
    "    conn.close()\n",
    "    os.remove('images\\\\' + filename[0] + '.png')\n",
    "    return '<OK>'\n",
    "\n",
    "def update_record(request_string):\n",
    "#     Добавить строку с \n",
    "    request_string = request_string.split('<id>')\n",
    "    now_datetime = datetime.now().strftime(\"%Y.%m.%d %H:%M:%S\")\n",
    "    if not re.findall(r\"(<<row>>Дата обновления=\\d{4}\\.\\d{2}\\.\\d{2}\\s\\d{2}:\\d{2}:\\d{2})\" ,request_string[0]):\n",
    "        request_string[0] += '<<row>>Дата обновления=' + now_datetime\n",
    "    else:\n",
    "        request_string[0] = re.sub(r\"(<<row>>Дата обновления=\\d{4}\\.\\d{2}\\.\\d{2}\\s\\d{2}:\\d{2}:\\d{2})\"\n",
    "                   , \"<<row>>Дата обновления=\" + now_datetime, request_string[0])\n",
    "    keywords, date, dateUpdate = parseDataFromPost(request_string[0])\n",
    "    id_in_db = request_string[1]\n",
    "    conn = sqlite3.connect(DB_NAME)\n",
    "    cursor = conn.cursor()\n",
    "    upd = cursor.execute(\"UPDATE face SET rawstring = ?, keywords = ?, date = ?, dateUpdate = ? WHERE id = ?\",\n",
    "                         (request_string[0], keywords, date, dateUpdate, id_in_db))\n",
    "    conn.commit()\n",
    "    conn.close()\n",
    "    return \"<OK>\"\n",
    "    \n",
    "    \n",
    "class MyHandler(BaseHTTPRequestHandler):\n",
    "#     store_path = pjoin(curdir, '1.jpg')\n",
    "    \n",
    "    def _set_headers(self):\n",
    "        \n",
    "        self.send_response(200)\n",
    "        self.send_header('Content-type', 'text/html')\n",
    "        self.end_headers()\n",
    "\n",
    "    def do_GET(self):\n",
    "        \n",
    "        self._set_headers()\n",
    "        countRows = countOfRowsInDB()\n",
    "        responseString = str(countRows)\n",
    "        self.wfile.write(responseString.encode())\n",
    "        \n",
    "\n",
    "    def do_HEAD(self):\n",
    "        self._set_headers()\n",
    "        \n",
    "    def do_POST(self):\n",
    "        \n",
    "        # Doesn't do anything with posted data\n",
    "        self._set_headers()\n",
    "        params = self.rfile.read(int(self.headers['Content-Length']))\n",
    "        paramsSplit = params.split(b'<image>')    \n",
    "        \n",
    "        if self.path == '/append_to_db':\n",
    "            data_string = paramsSplit[0].decode()\n",
    "            data_string += '<<row>>Дата регистрации=' + datetime.now().strftime(\"%Y.%m.%d %H:%M:%S\")\n",
    "            keywordsAndDate = parseDataFromPost(data_string)\n",
    "            img = Image.open(io.BytesIO(paramsSplit[1]))\n",
    "            image = cv2.cvtColor(numpy.array(img), cv2.COLOR_BGR2RGB)\n",
    "            desc = getDescriptor(image)\n",
    "            appendToDb(keywordsAndDate, data_string, desc, image)\n",
    "            self.wfile.write(\"Succsess POST\".encode())\n",
    "            \n",
    "        elif self.path == '/identify_and_search':\n",
    "            imbyte = paramsSplit[1].replace(b'<image>', b'')\n",
    "            img = Image.open(io.BytesIO(imbyte))\n",
    "            image = cv2.cvtColor(numpy.array(img), cv2.COLOR_BGR2RGB)\n",
    "            desc = getDescriptor(image)\n",
    "            searched, id_in_db = searchInDb(desc)\n",
    "            sendingString = \"Succsess POST<content>\" + searched + \"<id>\" + str(id_in_db)\n",
    "            self.wfile.write(bytes(str(len(sendingString)) + \"<length>\" + sendingString, 'utf-8').decode('unicode-escape').encode('ISO-8859-1'))        \n",
    "\n",
    "        \n",
    "        elif self.path == '/full_text_search':\n",
    "            searchString = str(params.decode()).split('<text>')[1]\n",
    "            file_bytes, byte_result = prepare_searched_response(searchString)\n",
    "            \n",
    "            if len(file_bytes) != 0 and len(byte_result) != 0:\n",
    "                self.wfile.write(file_bytes + b'<textBegin>' + byte_result)\n",
    "            \n",
    "            else:\n",
    "                self.wfile.write(b'<NOTFOUND>')\n",
    "                \n",
    "        elif self.path == '/delete_record':\n",
    "            returned_string = delete_record(str(params.decode()).split(\"<text>\")[1])\n",
    "            self.wfile.write(returned_string.encode())\n",
    "            \n",
    "        elif self.path == '/update_record':\n",
    "            returned_string = update_record(str(params.decode()).split(\"<text>\")[1])\n",
    "            self.wfile.write(returned_string.encode())\n",
    "            \n",
    "if __name__ == '__main__':\n",
    "    server_class = HTTPServer\n",
    "    httpd = server_class((HOST_NAME, PORT_NUMBER), MyHandler)\n",
    "    print(time.asctime(), \"Server Starts - %s:%s\" % (HOST_NAME, PORT_NUMBER))\n",
    "    try:\n",
    "        httpd.serve_forever()\n",
    "    except KeyboardInterrupt:\n",
    "        pass\n",
    "    httpd.server_close()\n",
    "    print(time.asctime(), \"Server Stops - %s:%s\" % (HOST_NAME, PORT_NUMBER))"
   ]
  }
 ],
 "metadata": {
  "kernelspec": {
   "display_name": "Python 3",
   "language": "python",
   "name": "python3"
  },
  "language_info": {
   "codemirror_mode": {
    "name": "ipython",
    "version": 3
   },
   "file_extension": ".py",
   "mimetype": "text/x-python",
   "name": "python",
   "nbconvert_exporter": "python",
   "pygments_lexer": "ipython3",
   "version": "3.6.3"
  }
 },
 "nbformat": 4,
 "nbformat_minor": 2
}
