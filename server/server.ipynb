{
 "cells": [
  {
   "cell_type": "code",
   "execution_count": 8,
   "metadata": {
    "scrolled": false
   },
   "outputs": [
    {
     "name": "stdout",
     "output_type": "stream",
     "text": [
      "Tue Apr 17 20:36:16 2018 Server Starts - localhost:1111\n"
     ]
    },
    {
     "name": "stderr",
     "output_type": "stream",
     "text": [
      "127.0.0.1 - - [17/Apr/2018 20:36:19] \"POST / HTTP/1.1\" 200 -\n"
     ]
    },
    {
     "name": "stdout",
     "output_type": "stream",
     "text": [
      "searchInDb\n",
      "1430\n",
      "0.46441021423997425\n",
      "1430\n",
      "0.4911362532450144\n",
      "1430\n",
      "0.5022940660913724\n",
      "1430\n",
      "0.4870513944297735\n",
      "1430\n",
      "0.48209906949951564\n",
      "1430\n",
      "0.5336312721224648\n",
      "1430\n",
      "0.5318069569872137\n",
      "1430\n",
      "0.5157140995705822\n",
      "1430\n",
      "0.48526372819568653\n",
      "\\\\row\\\\aaa=aaaa\\\\row\\\\Дата регистрации=15.04.2018 22:46:03\n",
      "searchInDb\n"
     ]
    },
    {
     "name": "stderr",
     "output_type": "stream",
     "text": [
      "C:\\ProgramData\\Anaconda3\\lib\\site-packages\\ipykernel_launcher.py:164: DeprecationWarning: invalid escape sequence '\\l'\n",
      "127.0.0.1 - - [17/Apr/2018 20:36:23] \"POST / HTTP/1.1\" 200 -\n"
     ]
    },
    {
     "name": "stdout",
     "output_type": "stream",
     "text": [
      "1420\n",
      "0.37948839328685846\n",
      "1420\n",
      "0.3839913318554958\n",
      "1420\n",
      "0.4027094424377494\n",
      "1420\n",
      "0.4047460614506268\n",
      "1420\n",
      "0.367013315367535\n",
      "1420\n",
      "0.4410031703067779\n",
      "1420\n",
      "0.39949325129341257\n",
      "1420\n",
      "0.4067872140318336\n",
      "1420\n",
      "0.3953881528584721\n",
      "\\\\row\\\\aaa=aaaa\\\\row\\\\Дата регистрации=15.04.2018 22:46:03\n",
      "searchInDb\n"
     ]
    },
    {
     "name": "stderr",
     "output_type": "stream",
     "text": [
      "127.0.0.1 - - [17/Apr/2018 20:36:27] \"POST / HTTP/1.1\" 200 -\n"
     ]
    },
    {
     "name": "stdout",
     "output_type": "stream",
     "text": [
      "1425\n",
      "0.390117633028625\n",
      "1425\n",
      "0.42555505663891824\n",
      "1425\n",
      "0.4187966954999835\n",
      "1425\n",
      "0.42078994987403606\n",
      "1425\n",
      "0.4053045331364664\n",
      "1425\n",
      "0.43870590193782755\n",
      "1425\n",
      "0.4435006308535961\n",
      "1425\n",
      "0.446585590096149\n",
      "1425\n",
      "0.40719759938998673\n",
      "\\\\row\\\\aaa=aaaa\\\\row\\\\Дата регистрации=15.04.2018 22:46:03\n",
      "searchInDb\n"
     ]
    },
    {
     "name": "stderr",
     "output_type": "stream",
     "text": [
      "127.0.0.1 - - [17/Apr/2018 20:36:31] \"POST / HTTP/1.1\" 200 -\n"
     ]
    },
    {
     "name": "stdout",
     "output_type": "stream",
     "text": [
      "1426\n",
      "0.32207786488357026\n",
      "1426\n",
      "0.3745142094312558\n",
      "1426\n",
      "0.3635653240321085\n",
      "1426\n",
      "0.3426473021435535\n",
      "1426\n",
      "0.3324072107997816\n",
      "1426\n",
      "0.3563543372869939\n",
      "1426\n",
      "0.3386525953444753\n",
      "1426\n",
      "0.3742388280008279\n",
      "1426\n",
      "0.33358199936917754\n",
      "\\\\row\\\\aaa=aaaa\\\\row\\\\Дата регистрации=15.04.2018 22:46:03\n"
     ]
    },
    {
     "name": "stderr",
     "output_type": "stream",
     "text": [
      "127.0.0.1 - - [17/Apr/2018 20:36:35] \"POST / HTTP/1.1\" 200 -\n"
     ]
    },
    {
     "name": "stdout",
     "output_type": "stream",
     "text": [
      "searchInDb\n",
      "0\n",
      "0\n",
      "0\n",
      "0\n",
      "0\n",
      "0\n",
      "0\n",
      "0\n",
      "0\n",
      "\n",
      "searchInDb\n"
     ]
    },
    {
     "name": "stderr",
     "output_type": "stream",
     "text": [
      "127.0.0.1 - - [17/Apr/2018 20:36:39] \"POST / HTTP/1.1\" 200 -\n"
     ]
    },
    {
     "name": "stdout",
     "output_type": "stream",
     "text": [
      "0\n",
      "0\n",
      "0\n",
      "0\n",
      "0\n",
      "0\n",
      "0\n",
      "0\n",
      "0\n",
      "\n"
     ]
    },
    {
     "name": "stderr",
     "output_type": "stream",
     "text": [
      "127.0.0.1 - - [17/Apr/2018 20:36:47] \"POST / HTTP/1.1\" 200 -\n"
     ]
    },
    {
     "name": "stdout",
     "output_type": "stream",
     "text": [
      "searchInDb\n",
      "0\n",
      "0\n",
      "0\n",
      "0\n",
      "0\n",
      "0\n",
      "0\n",
      "0\n",
      "0\n",
      "\n"
     ]
    },
    {
     "name": "stderr",
     "output_type": "stream",
     "text": [
      "127.0.0.1 - - [17/Apr/2018 20:36:53] \"POST / HTTP/1.1\" 200 -\n"
     ]
    },
    {
     "name": "stdout",
     "output_type": "stream",
     "text": [
      "searchInDb\n",
      "1424\n",
      "0.37062600540935603\n",
      "1424\n",
      "0.3928139896996449\n",
      "1424\n",
      "0.3819690348596063\n",
      "1424\n",
      "0.36705059041519283\n",
      "1424\n",
      "0.3477607639553275\n",
      "1424\n",
      "0.4056766419501611\n",
      "1424\n",
      "0.4013388380767987\n",
      "1424\n",
      "0.39230128611667214\n",
      "1424\n",
      "0.360608818362697\n",
      "\\\\row\\\\aaa=aaaa\\\\row\\\\Дата регистрации=15.04.2018 22:46:03\n"
     ]
    },
    {
     "name": "stderr",
     "output_type": "stream",
     "text": [
      "127.0.0.1 - - [17/Apr/2018 20:37:05] \"POST / HTTP/1.1\" 200 -\n"
     ]
    },
    {
     "name": "stdout",
     "output_type": "stream",
     "text": [
      "searchInDb\n",
      "0\n",
      "0\n",
      "0\n",
      "0\n",
      "0\n",
      "0\n",
      "0\n",
      "0\n",
      "0\n",
      "\n"
     ]
    },
    {
     "name": "stderr",
     "output_type": "stream",
     "text": [
      "127.0.0.1 - - [17/Apr/2018 20:37:13] \"POST / HTTP/1.1\" 200 -\n"
     ]
    },
    {
     "name": "stdout",
     "output_type": "stream",
     "text": [
      "searchInDb\n",
      "0\n",
      "0\n",
      "0\n",
      "0\n",
      "0\n",
      "0\n",
      "0\n",
      "0\n",
      "0\n",
      "\n",
      "searchInDb\n"
     ]
    },
    {
     "name": "stderr",
     "output_type": "stream",
     "text": [
      "127.0.0.1 - - [17/Apr/2018 20:37:16] \"POST / HTTP/1.1\" 200 -\n"
     ]
    },
    {
     "name": "stdout",
     "output_type": "stream",
     "text": [
      "0\n",
      "0\n",
      "0\n",
      "0\n",
      "0\n",
      "0\n",
      "0\n",
      "0\n",
      "0\n",
      "\n"
     ]
    },
    {
     "name": "stderr",
     "output_type": "stream",
     "text": [
      "127.0.0.1 - - [17/Apr/2018 20:37:23] \"POST / HTTP/1.1\" 200 -\n"
     ]
    },
    {
     "name": "stdout",
     "output_type": "stream",
     "text": [
      "searchInDb\n",
      "1426\n",
      "0.4317251522521054\n",
      "1426\n",
      "0.45061261134324426\n",
      "1426\n",
      "0.4297718768612632\n",
      "1426\n",
      "0.44069820778751373\n",
      "1426\n",
      "0.4307380391181226\n",
      "1426\n",
      "0.41350017164889075\n",
      "1426\n",
      "0.4030448801012039\n",
      "1426\n",
      "0.3981041577134894\n",
      "1426\n",
      "0.4416484203787077\n",
      "\\\\row\\\\aaa=aaaa\\\\row\\\\Дата регистрации=15.04.2018 22:46:03\n"
     ]
    },
    {
     "name": "stderr",
     "output_type": "stream",
     "text": [
      "127.0.0.1 - - [17/Apr/2018 20:37:46] \"POST / HTTP/1.1\" 200 -\n"
     ]
    },
    {
     "name": "stdout",
     "output_type": "stream",
     "text": [
      "searchInDb\n",
      "0\n",
      "0\n",
      "0\n",
      "0\n",
      "0\n",
      "0\n",
      "0\n",
      "0\n",
      "0\n",
      "\n",
      "searchInDb\n"
     ]
    },
    {
     "name": "stderr",
     "output_type": "stream",
     "text": [
      "127.0.0.1 - - [17/Apr/2018 20:37:49] \"POST / HTTP/1.1\" 200 -\n"
     ]
    },
    {
     "name": "stdout",
     "output_type": "stream",
     "text": [
      "0\n",
      "0\n",
      "0\n",
      "0\n",
      "0\n",
      "0\n",
      "0\n",
      "0\n",
      "0\n",
      "\n"
     ]
    },
    {
     "name": "stderr",
     "output_type": "stream",
     "text": [
      "127.0.0.1 - - [17/Apr/2018 20:37:55] \"POST / HTTP/1.1\" 200 -\n"
     ]
    },
    {
     "name": "stdout",
     "output_type": "stream",
     "text": [
      "searchInDb\n",
      "1418\n",
      "0.4507047342823414\n",
      "1418\n",
      "0.4517488473185309\n",
      "1418\n",
      "0.47267748231791146\n",
      "1418\n",
      "0.4628090111713528\n",
      "1418\n",
      "0.43084080992424995\n",
      "1418\n",
      "0.4915427363856289\n",
      "1418\n",
      "0.46646439737743656\n",
      "1418\n",
      "0.45200044283430196\n",
      "1418\n",
      "0.4653113561092393\n",
      "\\\\row\\\\aaa=aaaa\\\\row\\\\Дата регистрации=15.04.2018 22:46:03\n"
     ]
    },
    {
     "name": "stderr",
     "output_type": "stream",
     "text": [
      "127.0.0.1 - - [17/Apr/2018 20:38:01] \"POST / HTTP/1.1\" 200 -\n"
     ]
    },
    {
     "name": "stdout",
     "output_type": "stream",
     "text": [
      "searchInDb\n",
      "1413\n",
      "0.49371509117616125\n",
      "1413\n",
      "0.5397284545228993\n",
      "1413\n",
      "0.5466227088512667\n",
      "1413\n",
      "0.5474765774285187\n",
      "1413\n",
      "0.5063039922019056\n",
      "1413\n",
      "0.5539759043812484\n",
      "1413\n",
      "0.5369645852878908\n",
      "1413\n",
      "0.5154668125012186\n",
      "1413\n",
      "0.5065496268716758\n",
      "\\\\row\\\\aaa=aaaa\\\\row\\\\Дата регистрации=15.04.2018 22:46:03\n"
     ]
    },
    {
     "name": "stderr",
     "output_type": "stream",
     "text": [
      "127.0.0.1 - - [17/Apr/2018 20:38:13] \"POST / HTTP/1.1\" 200 -\n"
     ]
    },
    {
     "name": "stdout",
     "output_type": "stream",
     "text": [
      "searchInDb\n",
      "1428\n",
      "0.3739731918270054\n",
      "1428\n",
      "0.4083200270553833\n",
      "1428\n",
      "0.39171101378456313\n",
      "1428\n",
      "0.3863909243760073\n",
      "1428\n",
      "0.3728281670258598\n",
      "1428\n",
      "0.4273059672873582\n",
      "1428\n",
      "0.43564015718967797\n",
      "1428\n",
      "0.40800458116388405\n",
      "1428\n",
      "0.38530163526673117\n",
      "\\\\row\\\\aaa=aaaa\\\\row\\\\Дата регистрации=15.04.2018 22:46:03\n"
     ]
    },
    {
     "name": "stderr",
     "output_type": "stream",
     "text": [
      "127.0.0.1 - - [17/Apr/2018 20:38:20] \"POST / HTTP/1.1\" 200 -\n"
     ]
    },
    {
     "name": "stdout",
     "output_type": "stream",
     "text": [
      "searchInDb\n",
      "1409\n",
      "0.37023608869247776\n",
      "1409\n",
      "0.37850613444470776\n",
      "1409\n",
      "0.3585371286526283\n",
      "1409\n",
      "0.36758181806877455\n",
      "1409\n",
      "0.35368510487340726\n",
      "1409\n",
      "0.42763350669828654\n",
      "1409\n",
      "0.41816460223191465\n",
      "1409\n",
      "0.3880347650872678\n",
      "1409\n",
      "0.34825069636191947\n",
      "\\\\row\\\\aaa=aaaa\\\\row\\\\Дата регистрации=15.04.2018 22:46:03\n",
      "searchInDb\n"
     ]
    },
    {
     "name": "stderr",
     "output_type": "stream",
     "text": [
      "127.0.0.1 - - [17/Apr/2018 20:38:24] \"POST / HTTP/1.1\" 200 -\n"
     ]
    },
    {
     "name": "stdout",
     "output_type": "stream",
     "text": [
      "1414\n",
      "0.43867020142401164\n",
      "1414\n",
      "0.4410418515025755\n",
      "1414\n",
      "0.4440891994529106\n",
      "1414\n",
      "0.44324498794031475\n",
      "1414\n",
      "0.396809407262809\n",
      "1414\n",
      "0.47933495524360986\n",
      "1414\n",
      "0.46787280262284714\n",
      "1414\n",
      "0.44566984169619983\n",
      "1414\n",
      "0.4294436476211985\n",
      "\\\\row\\\\aaa=aaaa\\\\row\\\\Дата регистрации=15.04.2018 22:46:03\n",
      "searchInDb\n"
     ]
    },
    {
     "name": "stderr",
     "output_type": "stream",
     "text": [
      "127.0.0.1 - - [17/Apr/2018 20:38:28] \"POST / HTTP/1.1\" 200 -\n"
     ]
    },
    {
     "name": "stdout",
     "output_type": "stream",
     "text": [
      "1423\n",
      "0.3924473358632836\n",
      "1423\n",
      "0.3770775708624114\n",
      "1423\n",
      "0.4168841239365337\n",
      "1423\n",
      "0.40686121448765544\n",
      "1423\n",
      "0.3789779913535811\n",
      "1423\n",
      "0.44807921221972224\n",
      "1423\n",
      "0.42100640163775976\n",
      "1423\n",
      "0.4430075756780927\n",
      "1423\n",
      "0.40633467893136305\n",
      "\\\\row\\\\aaa=aaaa\\\\row\\\\Дата регистрации=15.04.2018 22:46:03\n",
      "searchInDb\n"
     ]
    },
    {
     "name": "stderr",
     "output_type": "stream",
     "text": [
      "127.0.0.1 - - [17/Apr/2018 20:38:32] \"POST / HTTP/1.1\" 200 -\n"
     ]
    },
    {
     "name": "stdout",
     "output_type": "stream",
     "text": [
      "1419\n",
      "0.3576442733681288\n",
      "1419\n",
      "0.3542464876196344\n",
      "1419\n",
      "0.3733671875791038\n",
      "1419\n",
      "0.3459766397485248\n",
      "1419\n",
      "0.333288162280443\n",
      "1419\n",
      "0.40735873463091776\n",
      "1419\n",
      "0.36189572647959384\n",
      "1419\n",
      "0.38425562494661897\n",
      "1419\n",
      "0.36620540663092704\n",
      "\\\\row\\\\aaa=aaaa\\\\row\\\\Дата регистрации=15.04.2018 22:46:03\n",
      "Tue Apr 17 20:40:58 2018 Server Stops - localhost:1111\n"
     ]
    }
   ],
   "source": [
    "import time\n",
    "import io\n",
    "import cv2\n",
    "import numpy\n",
    "import re\n",
    "import sqlite3\n",
    "import dlib\n",
    "\n",
    "\n",
    "from PIL import Image\n",
    "from http.server import BaseHTTPRequestHandler, HTTPServer\n",
    "from os import curdir\n",
    "from os.path import join as pjoin\n",
    "from scipy.spatial import distance\n",
    "from random import choice\n",
    "from string import ascii_letters\n",
    "from string import digits\n",
    "\n",
    "\n",
    "\n",
    "HOST_NAME = 'localhost' # !!!REMEMBER TO CHANGE THIS!!!\n",
    "PORT_NUMBER = 1111 # Maybe set this to 9000.\n",
    "DB_NAME = 'faces.db'\n",
    "\n",
    "def searchInDb(desc):\n",
    "    conn = sqlite3.connect(DB_NAME)\n",
    "    cursor = conn.cursor()\n",
    "    selectedData = []\n",
    "    sel = cursor.execute(\"select id, desc from face\")\n",
    "    targetIndex = 0\n",
    "    for line in sel:\n",
    "        print(len(desc))\n",
    "        if len(desc) != 0:\n",
    "            euclidianDistanse = distance.euclidean(numpy.array(line[1].split('||'), dtype=float), numpy.array(desc.split('||'), dtype=float))\n",
    "            if euclidianDistanse < 0.6:\n",
    "                targetIndex = line[0]\n",
    "                print(euclidianDistanse)\n",
    "            else:\n",
    "                print(str(euclidianDistanse) + '> 0.6')\n",
    "    \n",
    "    result = ''\n",
    "    if targetIndex!=0:\n",
    "        sel = cursor.execute(\"select rawstring from face where id=?\", [targetIndex])\n",
    "        for line in sel:\n",
    "            result = line[0]    \n",
    "    conn.close()\n",
    "    \n",
    "    return result\n",
    "\n",
    "def create_key():\n",
    "    key = \"\".join(choice(ascii_letters + digits) for i in range(20))\n",
    "    return key\n",
    "\n",
    "def appendToDb(keywords, rawstring, desc, image):\n",
    "    if desc != '':\n",
    "        conn = sqlite3.connect(DB_NAME)\n",
    "        cursor = conn.cursor()\n",
    "        sel = cursor.execute(\"SELECT key FROM face\")\n",
    "        sel_list = [i[0] for i in sel]\n",
    "        key = create_key()\n",
    "        if sel_list.count(key) > 1:\n",
    "            while True:\n",
    "                key = create_key()\n",
    "                if sel_list.count(key) == 1:\n",
    "                    break\n",
    "        \n",
    "        ins = cursor.execute(\"INSERT INTO face (rawstring, keywords, date, desc, key) VALUES( ?, ?, ?, ?, ?)\",\n",
    "                         (rawstring, keywords[0], keywords[1], desc, key))\n",
    "        conn.commit()\n",
    "        conn.close()\n",
    "        image_name = 'images\\\\%s.png' % key \n",
    "        print(image_name)\n",
    "        cv2.imwrite(image_name, image)\n",
    "\n",
    "def getDescriptor(img):\n",
    "    gray = cv2.cvtColor(img, cv2.COLOR_BGR2GRAY)\n",
    "    detector = dlib.get_frontal_face_detector()\n",
    "    dets = detector(gray, 1)\n",
    "    sp = dlib.shape_predictor('shape_predictor_68_face_landmarks.dat')\n",
    "    facerec = dlib.face_recognition_model_v1('dlib_face_recognition_resnet_model_v1.dat')\n",
    "    faceDescriptor = ''\n",
    "    for i, d in enumerate(dets):\n",
    "            shape = sp(img, d)      \n",
    "            faceDescriptor += str(facerec.compute_face_descriptor(img, shape)).replace('\\n', '||')\n",
    "            if i != len(dets) - 1:\n",
    "                faceDescriptor += '\\n'\n",
    "    return faceDescriptor\n",
    "\n",
    "def parseDataFromPost(stringToParse):\n",
    "    keywords = \"\"\n",
    "    date = \"\"\n",
    "    splitted = stringToParse.split('\\\\\\\\row\\\\\\\\')\n",
    "    for line in splitted:\n",
    "        if line != '':\n",
    "            keywords += line.split('=')[1] + '||' \n",
    "            if line.split('=')[0] == \"Дата регистрации\":\n",
    "                date = line.split('=')[1]\n",
    "    print(date)\n",
    "    return keywords, date\n",
    "\n",
    "def countOfRowsInDB():\n",
    "    conn = sqlite3.connect(DB_NAME)\n",
    "    cursor = conn.cursor()\n",
    "    count = 0\n",
    "    res = cursor.execute(\"SELECT COUNT(*) FROM face\")\n",
    "    for line in res:\n",
    "        count = line\n",
    "    conn.close()\n",
    "    return count[0]\n",
    "\n",
    "def searchingInDB(searchString):\n",
    "    conn = sqlite3.connect(DB_NAME)\n",
    "    cursor = conn.cursor()\n",
    "    res = cursor.execute(\"SELECT keywords FROM face\")\n",
    "    for line in res:\n",
    "        print(line)\n",
    "    return(1)\n",
    "    \n",
    "\n",
    "class MyHandler(BaseHTTPRequestHandler):\n",
    "    store_path = pjoin(curdir, '1.jpg')\n",
    "    def _set_headers(self):\n",
    "        self.send_response(200)\n",
    "        self.send_header('Content-type', 'text/html')\n",
    "        self.end_headers()\n",
    "\n",
    "    def do_GET(self):\n",
    "        self._set_headers()\n",
    "        countRows = countOfRowsInDB()\n",
    "        responseString = \"||blk||count rows = \" + str(countRows) + \"||blk||\"\n",
    "        self.wfile.write(responseString.encode())\n",
    "        \n",
    "\n",
    "    def do_HEAD(self):\n",
    "        self._set_headers()\n",
    "        \n",
    "    def do_POST(self):\n",
    "        # Doesn't do anything with posted data\n",
    "        self._set_headers()\n",
    "        params = self.rfile.read(int(self.headers['Content-Length']))\n",
    "        paramsSplit = params.split(b'\\\\image\\\\')\n",
    "        method = paramsSplit[0].split(b'\\\\method\\\\')[0].decode()\n",
    "        print(method)\n",
    "       \n",
    "        \n",
    "        if method == 'appendToDb':\n",
    "            dataString = paramsSplit[0].split(b'\\\\method\\\\')[1].decode()\n",
    "            print(dataString)\n",
    "            keywordsAndDate = parseDataFromPost(dataString)\n",
    "            img = Image.open(io.BytesIO(paramsSplit[1]))\n",
    "            image = cv2.cvtColor(numpy.array(img), cv2.COLOR_BGR2RGB)\n",
    "            desc = getDescriptor(image)\n",
    "            appendToDb(keywordsAndDate, dataString, desc, image)\n",
    "            self.wfile.write(\"Succsess POST\".encode())\n",
    "            \n",
    "        elif method == 'searchInDb':\n",
    "            imbyte = params.split(b'\\\\method\\\\')[1]\n",
    "            img = Image.open(io.BytesIO(imbyte))\n",
    "            image = cv2.cvtColor(numpy.array(img), cv2.COLOR_BGR2RGB)\n",
    "            desc = getDescriptor(image)\n",
    "            searched = searchInDb(desc)\n",
    "            print(searched)\n",
    "            sendingString = \"Succsess POST\\\\content\\\\\\\\\" + searched\n",
    "            self.wfile.write(bytes(str(len(sendingString)) + \"\\\\length\\\\\" + sendingString, 'utf-8').decode('unicode-escape').encode('ISO-8859-1'))        \n",
    "#             self.wfile.write((str(len(sendingString)) + \"\\\\length\\\\\" + sendingString).encode())\n",
    "        elif method == 'fullTextSearch':\n",
    "            print(str(params.decode()))\n",
    "            searchString = str(params.decode()).split('<text>')[1]\n",
    "            searchingInDB(searchString)\n",
    "if __name__ == '__main__':\n",
    "    server_class = HTTPServer\n",
    "    httpd = server_class((HOST_NAME, PORT_NUMBER), MyHandler)\n",
    "    print(time.asctime(), \"Server Starts - %s:%s\" % (HOST_NAME, PORT_NUMBER))\n",
    "    try:\n",
    "        httpd.serve_forever()\n",
    "    except KeyboardInterrupt:\n",
    "        pass\n",
    "    httpd.server_close()\n",
    "    print(time.asctime(), \"Server Stops - %s:%s\" % (HOST_NAME, PORT_NUMBER))"
   ]
  }
 ],
 "metadata": {
  "kernelspec": {
   "display_name": "Python 3",
   "language": "python",
   "name": "python3"
  },
  "language_info": {
   "codemirror_mode": {
    "name": "ipython",
    "version": 3
   },
   "file_extension": ".py",
   "mimetype": "text/x-python",
   "name": "python",
   "nbconvert_exporter": "python",
   "pygments_lexer": "ipython3",
   "version": "3.6.3"
  }
 },
 "nbformat": 4,
 "nbformat_minor": 2
}
