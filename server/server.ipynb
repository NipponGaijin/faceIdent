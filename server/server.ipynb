{
 "cells": [
  {
   "cell_type": "code",
   "execution_count": null,
   "metadata": {
    "scrolled": true
   },
   "outputs": [
    {
     "name": "stdout",
     "output_type": "stream",
     "text": [
      "Wed May 23 12:35:57 2018 Server Starts - localhost:1111\n"
     ]
    },
    {
     "name": "stderr",
     "output_type": "stream",
     "text": [
      "127.0.0.1 - - [23/May/2018 12:36:13] \"POST / HTTP/1.1\" 200 -\n"
     ]
    },
    {
     "name": "stdout",
     "output_type": "stream",
     "text": [
      "searchInDb\n",
      "\n"
     ]
    },
    {
     "name": "stderr",
     "output_type": "stream",
     "text": [
      "127.0.0.1 - - [23/May/2018 12:36:17] \"POST / HTTP/1.1\" 200 -\n"
     ]
    },
    {
     "name": "stdout",
     "output_type": "stream",
     "text": [
      "searchInDb\n",
      "\n"
     ]
    },
    {
     "name": "stderr",
     "output_type": "stream",
     "text": [
      "127.0.0.1 - - [23/May/2018 12:36:22] \"POST / HTTP/1.1\" 200 -\n"
     ]
    },
    {
     "name": "stdout",
     "output_type": "stream",
     "text": [
      "searchInDb\n",
      "\n"
     ]
    },
    {
     "name": "stderr",
     "output_type": "stream",
     "text": [
      "127.0.0.1 - - [23/May/2018 12:36:24] \"GET / HTTP/1.1\" 200 -\n",
      "127.0.0.1 - - [23/May/2018 12:36:25] \"POST / HTTP/1.1\" 200 -\n"
     ]
    },
    {
     "name": "stdout",
     "output_type": "stream",
     "text": [
      "searchInDb\n",
      "\n"
     ]
    },
    {
     "name": "stderr",
     "output_type": "stream",
     "text": [
      "127.0.0.1 - - [23/May/2018 12:36:29] \"POST / HTTP/1.1\" 200 -\n"
     ]
    },
    {
     "name": "stdout",
     "output_type": "stream",
     "text": [
      "searchInDb\n",
      "\n"
     ]
    },
    {
     "name": "stderr",
     "output_type": "stream",
     "text": [
      "127.0.0.1 - - [23/May/2018 12:36:34] \"POST / HTTP/1.1\" 200 -\n"
     ]
    },
    {
     "name": "stdout",
     "output_type": "stream",
     "text": [
      "searchInDb\n",
      "\n"
     ]
    },
    {
     "name": "stderr",
     "output_type": "stream",
     "text": [
      "127.0.0.1 - - [23/May/2018 12:36:40] \"POST / HTTP/1.1\" 200 -\n"
     ]
    },
    {
     "name": "stdout",
     "output_type": "stream",
     "text": [
      "searchInDb\n",
      "\n"
     ]
    },
    {
     "name": "stderr",
     "output_type": "stream",
     "text": [
      "127.0.0.1 - - [23/May/2018 12:36:45] \"POST / HTTP/1.1\" 200 -\n"
     ]
    },
    {
     "name": "stdout",
     "output_type": "stream",
     "text": [
      "searchInDb\n",
      "\n"
     ]
    },
    {
     "name": "stderr",
     "output_type": "stream",
     "text": [
      "127.0.0.1 - - [23/May/2018 12:36:48] \"POST / HTTP/1.1\" 200 -\n"
     ]
    },
    {
     "name": "stdout",
     "output_type": "stream",
     "text": [
      "searchInDb\n",
      "\n"
     ]
    },
    {
     "name": "stderr",
     "output_type": "stream",
     "text": [
      "127.0.0.1 - - [23/May/2018 12:36:52] \"POST / HTTP/1.1\" 200 -\n"
     ]
    },
    {
     "name": "stdout",
     "output_type": "stream",
     "text": [
      "searchInDb\n",
      "\n"
     ]
    },
    {
     "name": "stderr",
     "output_type": "stream",
     "text": [
      "127.0.0.1 - - [23/May/2018 12:36:56] \"POST / HTTP/1.1\" 200 -\n"
     ]
    },
    {
     "name": "stdout",
     "output_type": "stream",
     "text": [
      "searchInDb\n",
      "\n"
     ]
    },
    {
     "name": "stderr",
     "output_type": "stream",
     "text": [
      "127.0.0.1 - - [23/May/2018 12:37:04] \"POST / HTTP/1.1\" 200 -\n"
     ]
    },
    {
     "name": "stdout",
     "output_type": "stream",
     "text": [
      "searchInDb\n",
      "\n"
     ]
    },
    {
     "name": "stderr",
     "output_type": "stream",
     "text": [
      "127.0.0.1 - - [23/May/2018 12:37:08] \"POST / HTTP/1.1\" 200 -\n"
     ]
    },
    {
     "name": "stdout",
     "output_type": "stream",
     "text": [
      "searchInDb\n",
      "\n",
      "appendToDb\n",
      "<<row>>Фамилия=Серов<<row>>Имя=Александр<<row>>Дата регистрации=23.05.2018 12:37:11\n",
      "<<row>>Фамилия=Серов<<row>>Имя=Александр<<row>>Дата регистрации=23.05.2018 12:37:11\n",
      "23.05.2018 12:37:11\n"
     ]
    },
    {
     "name": "stderr",
     "output_type": "stream",
     "text": [
      "127.0.0.1 - - [23/May/2018 12:37:12] \"POST / HTTP/1.1\" 200 -\n"
     ]
    },
    {
     "name": "stdout",
     "output_type": "stream",
     "text": [
      "images\\18ENzM1hU2SScaslvRdE.png\n",
      "searchInDb\n"
     ]
    },
    {
     "name": "stderr",
     "output_type": "stream",
     "text": [
      "127.0.0.1 - - [23/May/2018 12:37:17] \"POST / HTTP/1.1\" 200 -\n"
     ]
    },
    {
     "name": "stdout",
     "output_type": "stream",
     "text": [
      "0.21049826935111157\n",
      "<<row>>Фамилия=Серов<<row>>Имя=Александр<<row>>Дата регистрации=23.05.2018 12:37:11\n"
     ]
    },
    {
     "name": "stderr",
     "output_type": "stream",
     "text": [
      "127.0.0.1 - - [23/May/2018 12:37:21] \"POST / HTTP/1.1\" 200 -\n"
     ]
    },
    {
     "name": "stdout",
     "output_type": "stream",
     "text": [
      "searchInDb\n",
      "0.3567090089770813\n",
      "<<row>>Фамилия=Серов<<row>>Имя=Александр<<row>>Дата регистрации=23.05.2018 12:37:11\n"
     ]
    },
    {
     "name": "stderr",
     "output_type": "stream",
     "text": [
      "127.0.0.1 - - [23/May/2018 12:37:25] \"POST / HTTP/1.1\" 200 -\n"
     ]
    },
    {
     "name": "stdout",
     "output_type": "stream",
     "text": [
      "searchInDb\n",
      "\n"
     ]
    },
    {
     "name": "stderr",
     "output_type": "stream",
     "text": [
      "127.0.0.1 - - [23/May/2018 12:37:29] \"POST / HTTP/1.1\" 200 -\n"
     ]
    },
    {
     "name": "stdout",
     "output_type": "stream",
     "text": [
      "searchInDb\n",
      "0.32915796391818014\n",
      "<<row>>Фамилия=Серов<<row>>Имя=Александр<<row>>Дата регистрации=23.05.2018 12:37:11\n"
     ]
    },
    {
     "name": "stderr",
     "output_type": "stream",
     "text": [
      "127.0.0.1 - - [23/May/2018 12:37:33] \"POST / HTTP/1.1\" 200 -\n"
     ]
    },
    {
     "name": "stdout",
     "output_type": "stream",
     "text": [
      "searchInDb\n",
      "\n"
     ]
    },
    {
     "name": "stderr",
     "output_type": "stream",
     "text": [
      "127.0.0.1 - - [23/May/2018 12:37:37] \"GET / HTTP/1.1\" 200 -\n",
      "127.0.0.1 - - [23/May/2018 12:37:37] \"POST / HTTP/1.1\" 200 -\n"
     ]
    },
    {
     "name": "stdout",
     "output_type": "stream",
     "text": [
      "searchInDb\n",
      "\n"
     ]
    },
    {
     "name": "stderr",
     "output_type": "stream",
     "text": [
      "127.0.0.1 - - [23/May/2018 12:37:41] \"POST / HTTP/1.1\" 200 -\n"
     ]
    },
    {
     "name": "stdout",
     "output_type": "stream",
     "text": [
      "searchInDb\n",
      "0.18821809260953154\n",
      "<<row>>Фамилия=Серов<<row>>Имя=Александр<<row>>Дата регистрации=23.05.2018 12:37:11\n",
      "fullTextSearch\n",
      "fullTextSearch<method><text>алек\n",
      "366028\n"
     ]
    },
    {
     "name": "stderr",
     "output_type": "stream",
     "text": [
      "127.0.0.1 - - [23/May/2018 12:37:44] \"POST / HTTP/1.1\" 200 -\n",
      "127.0.0.1 - - [23/May/2018 12:37:46] \"POST / HTTP/1.1\" 200 -\n"
     ]
    },
    {
     "name": "stdout",
     "output_type": "stream",
     "text": [
      "searchInDb\n",
      "0.19170561703380443\n",
      "<<row>>Фамилия=Серов<<row>>Имя=Александр<<row>>Дата регистрации=23.05.2018 12:37:11\n"
     ]
    },
    {
     "name": "stderr",
     "output_type": "stream",
     "text": [
      "127.0.0.1 - - [23/May/2018 12:37:50] \"POST / HTTP/1.1\" 200 -\n"
     ]
    },
    {
     "name": "stdout",
     "output_type": "stream",
     "text": [
      "searchInDb\n",
      "\n"
     ]
    },
    {
     "name": "stderr",
     "output_type": "stream",
     "text": [
      "127.0.0.1 - - [23/May/2018 12:45:10] \"POST / HTTP/1.1\" 200 -\n"
     ]
    },
    {
     "name": "stdout",
     "output_type": "stream",
     "text": [
      "searchInDb\n",
      "0.2972808018632791\n",
      "<<row>>Фамилия=Серов<<row>>Имя=Александр<<row>>Дата регистрации=23.05.2018 12:37:11\n"
     ]
    },
    {
     "name": "stderr",
     "output_type": "stream",
     "text": [
      "127.0.0.1 - - [23/May/2018 12:54:41] \"POST / HTTP/1.1\" 200 -\n"
     ]
    },
    {
     "name": "stdout",
     "output_type": "stream",
     "text": [
      "searchInDb\n",
      "\n"
     ]
    },
    {
     "name": "stderr",
     "output_type": "stream",
     "text": [
      "127.0.0.1 - - [23/May/2018 12:54:44] \"POST / HTTP/1.1\" 200 -\n"
     ]
    },
    {
     "name": "stdout",
     "output_type": "stream",
     "text": [
      "searchInDb\n",
      "0.32158546869708865\n",
      "<<row>>Фамилия=Серов<<row>>Имя=Александр<<row>>Дата регистрации=23.05.2018 12:37:11\n"
     ]
    },
    {
     "name": "stderr",
     "output_type": "stream",
     "text": [
      "127.0.0.1 - - [23/May/2018 12:54:49] \"POST / HTTP/1.1\" 200 -\n"
     ]
    },
    {
     "name": "stdout",
     "output_type": "stream",
     "text": [
      "searchInDb\n",
      "0.2651526281864424\n",
      "<<row>>Фамилия=Серов<<row>>Имя=Александр<<row>>Дата регистрации=23.05.2018 12:37:11\n"
     ]
    },
    {
     "name": "stderr",
     "output_type": "stream",
     "text": [
      "127.0.0.1 - - [23/May/2018 12:54:53] \"POST / HTTP/1.1\" 200 -\n"
     ]
    },
    {
     "name": "stdout",
     "output_type": "stream",
     "text": [
      "searchInDb\n",
      "0.33437364231654737\n",
      "<<row>>Фамилия=Серов<<row>>Имя=Александр<<row>>Дата регистрации=23.05.2018 12:37:11\n"
     ]
    },
    {
     "name": "stderr",
     "output_type": "stream",
     "text": [
      "127.0.0.1 - - [23/May/2018 12:55:09] \"POST / HTTP/1.1\" 200 -\n"
     ]
    },
    {
     "name": "stdout",
     "output_type": "stream",
     "text": [
      "searchInDb\n",
      "0.2857510247644557\n",
      "<<row>>Фамилия=Серов<<row>>Имя=Александр<<row>>Дата регистрации=23.05.2018 12:37:11\n"
     ]
    },
    {
     "name": "stderr",
     "output_type": "stream",
     "text": [
      "127.0.0.1 - - [23/May/2018 12:55:13] \"GET / HTTP/1.1\" 200 -\n",
      "127.0.0.1 - - [23/May/2018 12:55:13] \"POST / HTTP/1.1\" 200 -\n"
     ]
    },
    {
     "name": "stdout",
     "output_type": "stream",
     "text": [
      "searchInDb\n",
      "0.321909657335755\n",
      "<<row>>Фамилия=Серов<<row>>Имя=Александр<<row>>Дата регистрации=23.05.2018 12:37:11\n"
     ]
    },
    {
     "name": "stderr",
     "output_type": "stream",
     "text": [
      "127.0.0.1 - - [23/May/2018 12:55:18] \"POST / HTTP/1.1\" 200 -\n"
     ]
    },
    {
     "name": "stdout",
     "output_type": "stream",
     "text": [
      "searchInDb\n",
      "0.3424437129429798\n",
      "<<row>>Фамилия=Серов<<row>>Имя=Александр<<row>>Дата регистрации=23.05.2018 12:37:11\n"
     ]
    },
    {
     "name": "stderr",
     "output_type": "stream",
     "text": [
      "127.0.0.1 - - [23/May/2018 12:55:23] \"POST / HTTP/1.1\" 200 -\n"
     ]
    },
    {
     "name": "stdout",
     "output_type": "stream",
     "text": [
      "searchInDb\n",
      "0.3006344644092105\n",
      "<<row>>Фамилия=Серов<<row>>Имя=Александр<<row>>Дата регистрации=23.05.2018 12:37:11\n"
     ]
    },
    {
     "name": "stderr",
     "output_type": "stream",
     "text": [
      "127.0.0.1 - - [23/May/2018 12:55:27] \"POST / HTTP/1.1\" 200 -\n"
     ]
    },
    {
     "name": "stdout",
     "output_type": "stream",
     "text": [
      "searchInDb\n",
      "\n"
     ]
    },
    {
     "name": "stderr",
     "output_type": "stream",
     "text": [
      "127.0.0.1 - - [23/May/2018 12:55:31] \"POST / HTTP/1.1\" 200 -\n"
     ]
    },
    {
     "name": "stdout",
     "output_type": "stream",
     "text": [
      "searchInDb\n",
      "\n"
     ]
    },
    {
     "name": "stderr",
     "output_type": "stream",
     "text": [
      "127.0.0.1 - - [23/May/2018 12:55:34] \"POST / HTTP/1.1\" 200 -\n"
     ]
    },
    {
     "name": "stdout",
     "output_type": "stream",
     "text": [
      "searchInDb\n",
      "\n"
     ]
    },
    {
     "name": "stderr",
     "output_type": "stream",
     "text": [
      "127.0.0.1 - - [23/May/2018 12:55:38] \"POST / HTTP/1.1\" 200 -\n"
     ]
    },
    {
     "name": "stdout",
     "output_type": "stream",
     "text": [
      "searchInDb\n",
      "\n"
     ]
    },
    {
     "name": "stderr",
     "output_type": "stream",
     "text": [
      "127.0.0.1 - - [23/May/2018 12:55:41] \"POST / HTTP/1.1\" 200 -\n"
     ]
    },
    {
     "name": "stdout",
     "output_type": "stream",
     "text": [
      "searchInDb\n",
      "\n"
     ]
    },
    {
     "name": "stderr",
     "output_type": "stream",
     "text": [
      "127.0.0.1 - - [23/May/2018 12:55:48] \"POST / HTTP/1.1\" 200 -\n"
     ]
    },
    {
     "name": "stdout",
     "output_type": "stream",
     "text": [
      "searchInDb\n",
      "\n"
     ]
    },
    {
     "name": "stderr",
     "output_type": "stream",
     "text": [
      "127.0.0.1 - - [23/May/2018 12:55:52] \"POST / HTTP/1.1\" 200 -\n"
     ]
    },
    {
     "name": "stdout",
     "output_type": "stream",
     "text": [
      "searchInDb\n",
      "0.6942372581750972> 0.6\n",
      "\n"
     ]
    },
    {
     "name": "stderr",
     "output_type": "stream",
     "text": [
      "127.0.0.1 - - [23/May/2018 12:55:57] \"POST / HTTP/1.1\" 200 -\n"
     ]
    },
    {
     "name": "stdout",
     "output_type": "stream",
     "text": [
      "appendToDb\n",
      "<<row>>Имя=Царь<<row>>Дата регистрации=23.05.2018 12:55:57\n",
      "<<row>>Имя=Царь<<row>>Дата регистрации=23.05.2018 12:55:57\n",
      "23.05.2018 12:55:57\n",
      "images\\NR0rmMmZwN7OwvcMFHfl.png\n"
     ]
    },
    {
     "name": "stderr",
     "output_type": "stream",
     "text": [
      "127.0.0.1 - - [23/May/2018 12:56:11] \"POST / HTTP/1.1\" 200 -\n"
     ]
    },
    {
     "name": "stdout",
     "output_type": "stream",
     "text": [
      "searchInDb\n",
      "0.7610155178597675> 0.6\n",
      "0.537481784786103\n",
      "<<row>>Имя=Царь<<row>>Дата регистрации=23.05.2018 12:55:57\n"
     ]
    },
    {
     "name": "stderr",
     "output_type": "stream",
     "text": [
      "127.0.0.1 - - [23/May/2018 12:56:16] \"POST / HTTP/1.1\" 200 -\n"
     ]
    },
    {
     "name": "stdout",
     "output_type": "stream",
     "text": [
      "searchInDb\n",
      "0.715271851084294> 0.6\n",
      "0.21936223303346347\n",
      "<<row>>Имя=Царь<<row>>Дата регистрации=23.05.2018 12:55:57\n"
     ]
    },
    {
     "name": "stderr",
     "output_type": "stream",
     "text": [
      "127.0.0.1 - - [23/May/2018 12:56:20] \"POST / HTTP/1.1\" 200 -\n"
     ]
    },
    {
     "name": "stdout",
     "output_type": "stream",
     "text": [
      "searchInDb\n",
      "\n"
     ]
    },
    {
     "name": "stderr",
     "output_type": "stream",
     "text": [
      "127.0.0.1 - - [23/May/2018 12:56:24] \"POST / HTTP/1.1\" 200 -\n"
     ]
    },
    {
     "name": "stdout",
     "output_type": "stream",
     "text": [
      "searchInDb\n",
      "\n"
     ]
    },
    {
     "name": "stderr",
     "output_type": "stream",
     "text": [
      "127.0.0.1 - - [23/May/2018 12:56:27] \"POST / HTTP/1.1\" 200 -\n"
     ]
    },
    {
     "name": "stdout",
     "output_type": "stream",
     "text": [
      "searchInDb\n",
      "0.3691582382048822\n",
      "0.679164395595246> 0.6\n",
      "<<row>>Фамилия=Серов<<row>>Имя=Александр<<row>>Дата регистрации=23.05.2018 12:37:11\n"
     ]
    },
    {
     "name": "stderr",
     "output_type": "stream",
     "text": [
      "127.0.0.1 - - [23/May/2018 12:56:31] \"POST / HTTP/1.1\" 200 -\n"
     ]
    },
    {
     "name": "stdout",
     "output_type": "stream",
     "text": [
      "searchInDb\n",
      "0.277183934803494\n",
      "0.6782745573957626> 0.6\n",
      "<<row>>Фамилия=Серов<<row>>Имя=Александр<<row>>Дата регистрации=23.05.2018 12:37:11\n"
     ]
    },
    {
     "name": "stderr",
     "output_type": "stream",
     "text": [
      "127.0.0.1 - - [23/May/2018 12:56:36] \"POST / HTTP/1.1\" 200 -\n"
     ]
    },
    {
     "name": "stdout",
     "output_type": "stream",
     "text": [
      "searchInDb\n",
      "\n"
     ]
    },
    {
     "name": "stderr",
     "output_type": "stream",
     "text": [
      "127.0.0.1 - - [23/May/2018 12:56:39] \"POST / HTTP/1.1\" 200 -\n"
     ]
    },
    {
     "name": "stdout",
     "output_type": "stream",
     "text": [
      "searchInDb\n",
      "\n"
     ]
    },
    {
     "name": "stderr",
     "output_type": "stream",
     "text": [
      "127.0.0.1 - - [23/May/2018 12:56:44] \"POST / HTTP/1.1\" 200 -\n"
     ]
    },
    {
     "name": "stdout",
     "output_type": "stream",
     "text": [
      "searchInDb\n",
      "\n"
     ]
    },
    {
     "name": "stderr",
     "output_type": "stream",
     "text": [
      "127.0.0.1 - - [23/May/2018 12:56:47] \"POST / HTTP/1.1\" 200 -\n"
     ]
    },
    {
     "name": "stdout",
     "output_type": "stream",
     "text": [
      "searchInDb\n",
      "0.30576785060770095\n",
      "0.668446266194358> 0.6\n",
      "<<row>>Фамилия=Серов<<row>>Имя=Александр<<row>>Дата регистрации=23.05.2018 12:37:11\n"
     ]
    },
    {
     "name": "stderr",
     "output_type": "stream",
     "text": [
      "127.0.0.1 - - [23/May/2018 12:56:51] \"POST / HTTP/1.1\" 200 -\n"
     ]
    },
    {
     "name": "stdout",
     "output_type": "stream",
     "text": [
      "searchInDb\n",
      "\n"
     ]
    },
    {
     "name": "stderr",
     "output_type": "stream",
     "text": [
      "127.0.0.1 - - [23/May/2018 12:58:47] \"POST / HTTP/1.1\" 200 -\n"
     ]
    },
    {
     "name": "stdout",
     "output_type": "stream",
     "text": [
      "searchInDb\n",
      "0.3120280612305842\n",
      "0.6523897821654997> 0.6\n",
      "<<row>>Фамилия=Серов<<row>>Имя=Александр<<row>>Дата регистрации=23.05.2018 12:37:11\n"
     ]
    },
    {
     "name": "stderr",
     "output_type": "stream",
     "text": [
      "127.0.0.1 - - [23/May/2018 12:58:51] \"POST / HTTP/1.1\" 200 -\n"
     ]
    },
    {
     "name": "stdout",
     "output_type": "stream",
     "text": [
      "searchInDb\n",
      "0.3151362324742467\n",
      "0.671266781113081> 0.6\n",
      "<<row>>Фамилия=Серов<<row>>Имя=Александр<<row>>Дата регистрации=23.05.2018 12:37:11\n"
     ]
    },
    {
     "name": "stderr",
     "output_type": "stream",
     "text": [
      "127.0.0.1 - - [23/May/2018 13:01:08] \"POST / HTTP/1.1\" 200 -\n"
     ]
    },
    {
     "name": "stdout",
     "output_type": "stream",
     "text": [
      "searchInDb\n",
      "0.3780188500566269\n",
      "0.6730521863351592> 0.6\n",
      "<<row>>Фамилия=Серов<<row>>Имя=Александр<<row>>Дата регистрации=23.05.2018 12:37:11\n"
     ]
    },
    {
     "name": "stderr",
     "output_type": "stream",
     "text": [
      "127.0.0.1 - - [23/May/2018 13:07:42] \"POST / HTTP/1.1\" 200 -\n"
     ]
    },
    {
     "name": "stdout",
     "output_type": "stream",
     "text": [
      "searchInDb\n",
      "\n"
     ]
    },
    {
     "name": "stderr",
     "output_type": "stream",
     "text": [
      "127.0.0.1 - - [23/May/2018 13:11:24] \"GET / HTTP/1.1\" 200 -\n",
      "127.0.0.1 - - [23/May/2018 13:11:32] \"POST / HTTP/1.1\" 200 -\n"
     ]
    },
    {
     "name": "stdout",
     "output_type": "stream",
     "text": [
      "searchInDb\n",
      "\n"
     ]
    },
    {
     "name": "stderr",
     "output_type": "stream",
     "text": [
      "127.0.0.1 - - [23/May/2018 13:11:36] \"POST / HTTP/1.1\" 200 -\n"
     ]
    },
    {
     "name": "stdout",
     "output_type": "stream",
     "text": [
      "searchInDb\n",
      "\n"
     ]
    },
    {
     "name": "stderr",
     "output_type": "stream",
     "text": [
      "127.0.0.1 - - [23/May/2018 13:11:39] \"POST / HTTP/1.1\" 200 -\n"
     ]
    },
    {
     "name": "stdout",
     "output_type": "stream",
     "text": [
      "searchInDb\n",
      "\n"
     ]
    },
    {
     "name": "stderr",
     "output_type": "stream",
     "text": [
      "127.0.0.1 - - [23/May/2018 13:11:43] \"POST / HTTP/1.1\" 200 -\n"
     ]
    },
    {
     "name": "stdout",
     "output_type": "stream",
     "text": [
      "searchInDb\n",
      "\n"
     ]
    },
    {
     "name": "stderr",
     "output_type": "stream",
     "text": [
      "127.0.0.1 - - [23/May/2018 13:11:47] \"POST / HTTP/1.1\" 200 -\n"
     ]
    },
    {
     "name": "stdout",
     "output_type": "stream",
     "text": [
      "searchInDb\n",
      "0.33487807410692694\n",
      "0.733056803065469> 0.6\n",
      "<<row>>Фамилия=Серов<<row>>Имя=Александр<<row>>Дата регистрации=23.05.2018 12:37:11\n"
     ]
    },
    {
     "name": "stderr",
     "output_type": "stream",
     "text": [
      "127.0.0.1 - - [23/May/2018 13:12:17] \"POST / HTTP/1.1\" 200 -\n"
     ]
    },
    {
     "name": "stdout",
     "output_type": "stream",
     "text": [
      "searchInDb\n",
      "0.3007519027243817\n",
      "0.7391326932931895> 0.6\n",
      "<<row>>Фамилия=Серов<<row>>Имя=Александр<<row>>Дата регистрации=23.05.2018 12:37:11\n"
     ]
    },
    {
     "name": "stderr",
     "output_type": "stream",
     "text": [
      "127.0.0.1 - - [23/May/2018 13:13:28] \"POST / HTTP/1.1\" 200 -\n"
     ]
    },
    {
     "name": "stdout",
     "output_type": "stream",
     "text": [
      "searchInDb\n",
      "\n"
     ]
    },
    {
     "name": "stderr",
     "output_type": "stream",
     "text": [
      "127.0.0.1 - - [23/May/2018 13:13:32] \"POST / HTTP/1.1\" 200 -\n"
     ]
    },
    {
     "name": "stdout",
     "output_type": "stream",
     "text": [
      "searchInDb\n",
      "\n"
     ]
    },
    {
     "name": "stderr",
     "output_type": "stream",
     "text": [
      "127.0.0.1 - - [23/May/2018 13:13:35] \"POST / HTTP/1.1\" 200 -\n"
     ]
    },
    {
     "name": "stdout",
     "output_type": "stream",
     "text": [
      "searchInDb\n",
      "0.215433940034616\n",
      "0.7230854835106539> 0.6\n",
      "<<row>>Фамилия=Серов<<row>>Имя=Александр<<row>>Дата регистрации=23.05.2018 12:37:11\n"
     ]
    },
    {
     "name": "stderr",
     "output_type": "stream",
     "text": [
      "127.0.0.1 - - [23/May/2018 13:13:40] \"POST / HTTP/1.1\" 200 -\n"
     ]
    },
    {
     "name": "stdout",
     "output_type": "stream",
     "text": [
      "searchInDb\n",
      "\n"
     ]
    },
    {
     "name": "stderr",
     "output_type": "stream",
     "text": [
      "127.0.0.1 - - [23/May/2018 13:13:43] \"POST / HTTP/1.1\" 200 -\n"
     ]
    },
    {
     "name": "stdout",
     "output_type": "stream",
     "text": [
      "searchInDb\n",
      "0.1897616081539415\n",
      "0.6821666974773059> 0.6\n",
      "<<row>>Фамилия=Серов<<row>>Имя=Александр<<row>>Дата регистрации=23.05.2018 12:37:11\n"
     ]
    },
    {
     "name": "stderr",
     "output_type": "stream",
     "text": [
      "127.0.0.1 - - [23/May/2018 13:17:04] \"POST / HTTP/1.1\" 200 -\n"
     ]
    },
    {
     "name": "stdout",
     "output_type": "stream",
     "text": [
      "searchInDb\n",
      "\n"
     ]
    },
    {
     "name": "stderr",
     "output_type": "stream",
     "text": [
      "127.0.0.1 - - [23/May/2018 13:17:08] \"POST / HTTP/1.1\" 200 -\n"
     ]
    },
    {
     "name": "stdout",
     "output_type": "stream",
     "text": [
      "searchInDb\n",
      "\n"
     ]
    },
    {
     "name": "stderr",
     "output_type": "stream",
     "text": [
      "127.0.0.1 - - [23/May/2018 13:17:11] \"POST / HTTP/1.1\" 200 -\n"
     ]
    },
    {
     "name": "stdout",
     "output_type": "stream",
     "text": [
      "searchInDb\n",
      "\n"
     ]
    },
    {
     "name": "stderr",
     "output_type": "stream",
     "text": [
      "127.0.0.1 - - [23/May/2018 13:17:33] \"POST / HTTP/1.1\" 200 -\n"
     ]
    },
    {
     "name": "stdout",
     "output_type": "stream",
     "text": [
      "searchInDb\n",
      "\n"
     ]
    },
    {
     "name": "stderr",
     "output_type": "stream",
     "text": [
      "127.0.0.1 - - [23/May/2018 13:17:36] \"POST / HTTP/1.1\" 200 -\n"
     ]
    },
    {
     "name": "stdout",
     "output_type": "stream",
     "text": [
      "searchInDb\n",
      "\n"
     ]
    },
    {
     "name": "stderr",
     "output_type": "stream",
     "text": [
      "127.0.0.1 - - [23/May/2018 13:18:50] \"POST / HTTP/1.1\" 200 -\n"
     ]
    },
    {
     "name": "stdout",
     "output_type": "stream",
     "text": [
      "searchInDb\n",
      "0.24255749606129592\n",
      "0.6745968185756621> 0.6\n",
      "<<row>>Фамилия=Серов<<row>>Имя=Александр<<row>>Дата регистрации=23.05.2018 12:37:11\n"
     ]
    },
    {
     "name": "stderr",
     "output_type": "stream",
     "text": [
      "127.0.0.1 - - [23/May/2018 13:18:55] \"POST / HTTP/1.1\" 200 -\n"
     ]
    },
    {
     "name": "stdout",
     "output_type": "stream",
     "text": [
      "searchInDb\n",
      "\n"
     ]
    },
    {
     "name": "stderr",
     "output_type": "stream",
     "text": [
      "127.0.0.1 - - [23/May/2018 13:18:58] \"POST / HTTP/1.1\" 200 -\n"
     ]
    },
    {
     "name": "stdout",
     "output_type": "stream",
     "text": [
      "searchInDb\n",
      "0.18785678836320366\n",
      "0.6862810640586285> 0.6\n",
      "<<row>>Фамилия=Серов<<row>>Имя=Александр<<row>>Дата регистрации=23.05.2018 12:37:11\n"
     ]
    },
    {
     "name": "stderr",
     "output_type": "stream",
     "text": [
      "127.0.0.1 - - [23/May/2018 13:19:03] \"POST / HTTP/1.1\" 200 -\n"
     ]
    },
    {
     "name": "stdout",
     "output_type": "stream",
     "text": [
      "searchInDb\n",
      "\n"
     ]
    },
    {
     "name": "stderr",
     "output_type": "stream",
     "text": [
      "127.0.0.1 - - [23/May/2018 13:20:08] \"POST / HTTP/1.1\" 200 -\n"
     ]
    },
    {
     "name": "stdout",
     "output_type": "stream",
     "text": [
      "searchInDb\n",
      "\n"
     ]
    },
    {
     "name": "stderr",
     "output_type": "stream",
     "text": [
      "127.0.0.1 - - [23/May/2018 13:20:12] \"POST / HTTP/1.1\" 200 -\n"
     ]
    },
    {
     "name": "stdout",
     "output_type": "stream",
     "text": [
      "searchInDb\n",
      "\n"
     ]
    },
    {
     "name": "stderr",
     "output_type": "stream",
     "text": [
      "127.0.0.1 - - [23/May/2018 13:20:16] \"POST / HTTP/1.1\" 200 -\n"
     ]
    },
    {
     "name": "stdout",
     "output_type": "stream",
     "text": [
      "searchInDb\n",
      "0.2310594645101742\n",
      "0.7296452898205564> 0.6\n",
      "<<row>>Фамилия=Серов<<row>>Имя=Александр<<row>>Дата регистрации=23.05.2018 12:37:11\n"
     ]
    },
    {
     "name": "stderr",
     "output_type": "stream",
     "text": [
      "127.0.0.1 - - [23/May/2018 13:20:20] \"POST / HTTP/1.1\" 200 -\n"
     ]
    },
    {
     "name": "stdout",
     "output_type": "stream",
     "text": [
      "searchInDb\n",
      "0.36106384620064763\n",
      "0.6536269845654101> 0.6\n",
      "<<row>>Фамилия=Серов<<row>>Имя=Александр<<row>>Дата регистрации=23.05.2018 12:37:11\n"
     ]
    },
    {
     "name": "stderr",
     "output_type": "stream",
     "text": [
      "127.0.0.1 - - [23/May/2018 13:20:25] \"POST / HTTP/1.1\" 200 -\n"
     ]
    },
    {
     "name": "stdout",
     "output_type": "stream",
     "text": [
      "searchInDb\n",
      "\n"
     ]
    },
    {
     "name": "stderr",
     "output_type": "stream",
     "text": [
      "127.0.0.1 - - [23/May/2018 13:21:42] \"POST / HTTP/1.1\" 200 -\n"
     ]
    },
    {
     "name": "stdout",
     "output_type": "stream",
     "text": [
      "searchInDb\n",
      "0.3596228411731335\n",
      "0.6518776457088915> 0.6\n",
      "<<row>>Фамилия=Серов<<row>>Имя=Александр<<row>>Дата регистрации=23.05.2018 12:37:11\n"
     ]
    },
    {
     "name": "stderr",
     "output_type": "stream",
     "text": [
      "127.0.0.1 - - [23/May/2018 13:21:45] \"GET / HTTP/1.1\" 200 -\n",
      "127.0.0.1 - - [23/May/2018 13:22:01] \"POST / HTTP/1.1\" 200 -\n"
     ]
    },
    {
     "name": "stdout",
     "output_type": "stream",
     "text": [
      "searchInDb\n",
      "0.33683397619218264\n",
      "0.6928204930459655> 0.6\n",
      "<<row>>Фамилия=Серов<<row>>Имя=Александр<<row>>Дата регистрации=23.05.2018 12:37:11\n"
     ]
    },
    {
     "name": "stderr",
     "output_type": "stream",
     "text": [
      "127.0.0.1 - - [23/May/2018 13:22:06] \"POST / HTTP/1.1\" 200 -\n"
     ]
    },
    {
     "name": "stdout",
     "output_type": "stream",
     "text": [
      "searchInDb\n",
      "0.2950258186858083\n",
      "0.6970916009428981> 0.6\n",
      "<<row>>Фамилия=Серов<<row>>Имя=Александр<<row>>Дата регистрации=23.05.2018 12:37:11\n",
      "fullTextSearch\n",
      "fullTextSearch<method><text>2\n",
      "794190\n"
     ]
    },
    {
     "name": "stderr",
     "output_type": "stream",
     "text": [
      "127.0.0.1 - - [23/May/2018 13:22:09] \"POST / HTTP/1.1\" 200 -\n",
      "127.0.0.1 - - [23/May/2018 13:22:11] \"POST / HTTP/1.1\" 200 -\n"
     ]
    },
    {
     "name": "stdout",
     "output_type": "stream",
     "text": [
      "searchInDb\n",
      "\n"
     ]
    },
    {
     "name": "stderr",
     "output_type": "stream",
     "text": [
      "127.0.0.1 - - [23/May/2018 13:22:14] \"POST / HTTP/1.1\" 200 -\n"
     ]
    },
    {
     "name": "stdout",
     "output_type": "stream",
     "text": [
      "searchInDb\n",
      "\n"
     ]
    },
    {
     "name": "stderr",
     "output_type": "stream",
     "text": [
      "127.0.0.1 - - [23/May/2018 13:22:33] \"POST / HTTP/1.1\" 200 -\n"
     ]
    },
    {
     "name": "stdout",
     "output_type": "stream",
     "text": [
      "searchInDb\n",
      "0.21918056261459326\n",
      "0.6817216641491067> 0.6\n",
      "<<row>>Фамилия=Серов<<row>>Имя=Александр<<row>>Дата регистрации=23.05.2018 12:37:11\n"
     ]
    },
    {
     "name": "stderr",
     "output_type": "stream",
     "text": [
      "127.0.0.1 - - [23/May/2018 13:22:36] \"GET / HTTP/1.1\" 200 -\n",
      "127.0.0.1 - - [23/May/2018 13:22:37] \"POST / HTTP/1.1\" 200 -\n"
     ]
    },
    {
     "name": "stdout",
     "output_type": "stream",
     "text": [
      "searchInDb\n",
      "0.2923232381489466\n",
      "0.7251459916422466> 0.6\n",
      "<<row>>Фамилия=Серов<<row>>Имя=Александр<<row>>Дата регистрации=23.05.2018 12:37:11\n",
      "fullTextSearch\n",
      "fullTextSearch<method><text>23\n",
      "794190\n"
     ]
    },
    {
     "name": "stderr",
     "output_type": "stream",
     "text": [
      "127.0.0.1 - - [23/May/2018 13:22:40] \"POST / HTTP/1.1\" 200 -\n",
      "127.0.0.1 - - [23/May/2018 13:22:54] \"POST / HTTP/1.1\" 200 -\n"
     ]
    },
    {
     "name": "stdout",
     "output_type": "stream",
     "text": [
      "update_record\n",
      "update_record<method><text><<row>>Имя=Царь<<row>>Дата регистрации=23.05.2018 12:55:57<<row>>Дата обновления=23.05.2018 13:22:54<id>3034\n",
      "<<row>>Имя=Царь<<row>>Дата регистрации=23.05.2018 12:55:57<<row>>Дата обновления=23.05.2018 13:22:54\n",
      "23.05.2018 12:55:57\n"
     ]
    },
    {
     "name": "stderr",
     "output_type": "stream",
     "text": [
      "127.0.0.1 - - [23/May/2018 13:22:56] \"POST / HTTP/1.1\" 200 -\n"
     ]
    },
    {
     "name": "stdout",
     "output_type": "stream",
     "text": [
      "searchInDb\n",
      "0.2641401659047708\n",
      "0.7059035579874455> 0.6\n",
      "<<row>>Фамилия=Серов<<row>>Имя=Александр<<row>>Дата регистрации=23.05.2018 12:37:11\n"
     ]
    },
    {
     "name": "stderr",
     "output_type": "stream",
     "text": [
      "127.0.0.1 - - [23/May/2018 13:23:01] \"POST / HTTP/1.1\" 200 -\n"
     ]
    },
    {
     "name": "stdout",
     "output_type": "stream",
     "text": [
      "searchInDb\n",
      "\n"
     ]
    },
    {
     "name": "stderr",
     "output_type": "stream",
     "text": [
      "127.0.0.1 - - [23/May/2018 13:23:04] \"POST / HTTP/1.1\" 200 -\n"
     ]
    },
    {
     "name": "stdout",
     "output_type": "stream",
     "text": [
      "searchInDb\n",
      "\n",
      "update_record\n",
      "update_record<method><text><<row>>Имя=aaaaaaaaaaaaaaaaa<<row>>Дата регистрации=23.05.2018 12:55:57<<row>>Дата обновления=23.05.2018 13:23:07<id>3034\n",
      "<<row>>Имя=aaaaaaaaaaaaaaaaa<<row>>Дата регистрации=23.05.2018 12:55:57<<row>>Дата обновления=23.05.2018 13:23:07\n",
      "23.05.2018 12:55:57\n"
     ]
    },
    {
     "name": "stderr",
     "output_type": "stream",
     "text": [
      "127.0.0.1 - - [23/May/2018 13:23:07] \"POST / HTTP/1.1\" 200 -\n",
      "127.0.0.1 - - [23/May/2018 13:23:08] \"POST / HTTP/1.1\" 200 -\n"
     ]
    },
    {
     "name": "stdout",
     "output_type": "stream",
     "text": [
      "searchInDb\n",
      "0.23846878779752917\n",
      "0.6496995900929272> 0.6\n",
      "<<row>>Фамилия=Серов<<row>>Имя=Александр<<row>>Дата регистрации=23.05.2018 12:37:11\n"
     ]
    },
    {
     "name": "stderr",
     "output_type": "stream",
     "text": [
      "127.0.0.1 - - [23/May/2018 13:23:12] \"POST / HTTP/1.1\" 200 -\n",
      "127.0.0.1 - - [23/May/2018 13:23:12] \"POST / HTTP/1.1\" 200 -\n"
     ]
    },
    {
     "name": "stdout",
     "output_type": "stream",
     "text": [
      "fullTextSearch\n",
      "fullTextSearch<method><text>23\n",
      "794190\n",
      "searchInDb\n",
      "0.28693497736875606\n",
      "0.6576196345790913> 0.6\n",
      "<<row>>Фамилия=Серов<<row>>Имя=Александр<<row>>Дата регистрации=23.05.2018 12:37:11\n"
     ]
    },
    {
     "name": "stderr",
     "output_type": "stream",
     "text": [
      "127.0.0.1 - - [23/May/2018 13:23:37] \"POST / HTTP/1.1\" 200 -\n"
     ]
    },
    {
     "name": "stdout",
     "output_type": "stream",
     "text": [
      "searchInDb\n",
      "0.2687972354144334\n",
      "0.6919740921319563> 0.6\n",
      "<<row>>Фамилия=Серов<<row>>Имя=Александр<<row>>Дата регистрации=23.05.2018 12:37:11\n"
     ]
    },
    {
     "name": "stderr",
     "output_type": "stream",
     "text": [
      "127.0.0.1 - - [23/May/2018 13:24:50] \"POST / HTTP/1.1\" 200 -\n"
     ]
    },
    {
     "name": "stdout",
     "output_type": "stream",
     "text": [
      "searchInDb\n",
      "0.2641188998441576\n",
      "0.7229855628793295> 0.6\n",
      "<<row>>Фамилия=Серов<<row>>Имя=Александр<<row>>Дата регистрации=23.05.2018 12:37:11\n"
     ]
    },
    {
     "name": "stderr",
     "output_type": "stream",
     "text": [
      "127.0.0.1 - - [23/May/2018 13:24:54] \"POST / HTTP/1.1\" 200 -\n"
     ]
    },
    {
     "name": "stdout",
     "output_type": "stream",
     "text": [
      "searchInDb\n",
      "0.21187406899610686\n",
      "0.6831737862272> 0.6\n",
      "<<row>>Фамилия=Серов<<row>>Имя=Александр<<row>>Дата регистрации=23.05.2018 12:37:11\n"
     ]
    },
    {
     "name": "stderr",
     "output_type": "stream",
     "text": [
      "127.0.0.1 - - [23/May/2018 13:24:59] \"POST / HTTP/1.1\" 200 -\n"
     ]
    },
    {
     "name": "stdout",
     "output_type": "stream",
     "text": [
      "searchInDb\n",
      "0.18917781405572506\n",
      "0.6539441093216832> 0.6\n",
      "<<row>>Фамилия=Серов<<row>>Имя=Александр<<row>>Дата регистрации=23.05.2018 12:37:11\n"
     ]
    },
    {
     "name": "stderr",
     "output_type": "stream",
     "text": [
      "127.0.0.1 - - [23/May/2018 13:25:04] \"POST / HTTP/1.1\" 200 -\n"
     ]
    },
    {
     "name": "stdout",
     "output_type": "stream",
     "text": [
      "searchInDb\n",
      "\n"
     ]
    },
    {
     "name": "stderr",
     "output_type": "stream",
     "text": [
      "127.0.0.1 - - [23/May/2018 13:25:12] \"POST / HTTP/1.1\" 200 -\n"
     ]
    },
    {
     "name": "stdout",
     "output_type": "stream",
     "text": [
      "searchInDb\n",
      "0.28713444408663696\n",
      "0.7161023010416085> 0.6\n",
      "<<row>>Фамилия=Серов<<row>>Имя=Александр<<row>>Дата регистрации=23.05.2018 12:37:11\n"
     ]
    },
    {
     "name": "stderr",
     "output_type": "stream",
     "text": [
      "127.0.0.1 - - [23/May/2018 13:25:31] \"POST / HTTP/1.1\" 200 -\n"
     ]
    },
    {
     "name": "stdout",
     "output_type": "stream",
     "text": [
      "searchInDb\n",
      "0.35694199398655246\n",
      "0.6751323973405758> 0.6\n",
      "<<row>>Фамилия=Серов<<row>>Имя=Александр<<row>>Дата регистрации=23.05.2018 12:37:11\n"
     ]
    },
    {
     "name": "stderr",
     "output_type": "stream",
     "text": [
      "127.0.0.1 - - [23/May/2018 13:26:22] \"POST / HTTP/1.1\" 200 -\n"
     ]
    },
    {
     "name": "stdout",
     "output_type": "stream",
     "text": [
      "searchInDb\n",
      "\n",
      "searchInDb\n"
     ]
    },
    {
     "name": "stderr",
     "output_type": "stream",
     "text": [
      "127.0.0.1 - - [23/May/2018 13:26:25] \"POST / HTTP/1.1\" 200 -\n"
     ]
    },
    {
     "name": "stdout",
     "output_type": "stream",
     "text": [
      "\n",
      "searchInDb\n"
     ]
    },
    {
     "name": "stderr",
     "output_type": "stream",
     "text": [
      "127.0.0.1 - - [23/May/2018 13:26:29] \"POST / HTTP/1.1\" 200 -\n"
     ]
    },
    {
     "name": "stdout",
     "output_type": "stream",
     "text": [
      "0.2564505103019177\n",
      "0.7000692217351372> 0.6\n",
      "<<row>>Фамилия=Серов<<row>>Имя=Александр<<row>>Дата регистрации=23.05.2018 12:37:11\n",
      "searchInDb\n"
     ]
    },
    {
     "name": "stderr",
     "output_type": "stream",
     "text": [
      "127.0.0.1 - - [23/May/2018 13:26:32] \"POST / HTTP/1.1\" 200 -\n"
     ]
    },
    {
     "name": "stdout",
     "output_type": "stream",
     "text": [
      "0.2548152495446787\n",
      "0.7198131716788781> 0.6\n",
      "<<row>>Фамилия=Серов<<row>>Имя=Александр<<row>>Дата регистрации=23.05.2018 12:37:11\n",
      "searchInDb\n"
     ]
    },
    {
     "name": "stderr",
     "output_type": "stream",
     "text": [
      "127.0.0.1 - - [23/May/2018 13:26:36] \"POST / HTTP/1.1\" 200 -\n"
     ]
    },
    {
     "name": "stdout",
     "output_type": "stream",
     "text": [
      "0.23867032898661428\n",
      "0.6999288254262284> 0.6\n",
      "<<row>>Фамилия=Серов<<row>>Имя=Александр<<row>>Дата регистрации=23.05.2018 12:37:11\n"
     ]
    },
    {
     "name": "stderr",
     "output_type": "stream",
     "text": [
      "127.0.0.1 - - [23/May/2018 13:28:29] \"POST / HTTP/1.1\" 200 -\n"
     ]
    },
    {
     "name": "stdout",
     "output_type": "stream",
     "text": [
      "searchInDb\n",
      "\n",
      "searchInDb\n"
     ]
    },
    {
     "name": "stderr",
     "output_type": "stream",
     "text": [
      "127.0.0.1 - - [23/May/2018 13:28:33] \"POST / HTTP/1.1\" 200 -\n"
     ]
    },
    {
     "name": "stdout",
     "output_type": "stream",
     "text": [
      "0.2699206571229738\n",
      "0.7069769526183168> 0.6\n",
      "<<row>>Фамилия=Серов<<row>>Имя=Александр<<row>>Дата регистрации=23.05.2018 12:37:11\n",
      "searchInDb\n"
     ]
    },
    {
     "name": "stderr",
     "output_type": "stream",
     "text": [
      "127.0.0.1 - - [23/May/2018 13:28:36] \"GET / HTTP/1.1\" 200 -\n",
      "127.0.0.1 - - [23/May/2018 13:28:36] \"POST / HTTP/1.1\" 200 -\n"
     ]
    },
    {
     "name": "stdout",
     "output_type": "stream",
     "text": [
      "0.25813675540879905\n",
      "0.7048526986437064> 0.6\n",
      "<<row>>Фамилия=Серов<<row>>Имя=Александр<<row>>Дата регистрации=23.05.2018 12:37:11\n",
      "fullTextSearch\n",
      "fullTextSearch<method><text>aaa\n",
      "428184\n"
     ]
    },
    {
     "name": "stderr",
     "output_type": "stream",
     "text": [
      "127.0.0.1 - - [23/May/2018 13:28:40] \"POST / HTTP/1.1\" 200 -\n",
      "127.0.0.1 - - [23/May/2018 13:28:42] \"POST / HTTP/1.1\" 200 -\n"
     ]
    },
    {
     "name": "stdout",
     "output_type": "stream",
     "text": [
      "searchInDb\n",
      "0.24832726594708787\n",
      "0.688147991435902> 0.6\n",
      "<<row>>Фамилия=Серов<<row>>Имя=Александр<<row>>Дата регистрации=23.05.2018 12:37:11\n"
     ]
    },
    {
     "name": "stderr",
     "output_type": "stream",
     "text": [
      "127.0.0.1 - - [23/May/2018 14:29:20] \"POST / HTTP/1.1\" 200 -\n"
     ]
    },
    {
     "name": "stdout",
     "output_type": "stream",
     "text": [
      "searchInDb\n",
      "0.42150456930082014\n",
      "0.7031023448978466> 0.6\n",
      "<<row>>Фамилия=Серов<<row>>Имя=Александр<<row>>Дата регистрации=23.05.2018 12:37:11\n",
      "searchInDb\n"
     ]
    },
    {
     "name": "stderr",
     "output_type": "stream",
     "text": [
      "127.0.0.1 - - [23/May/2018 14:29:24] \"POST / HTTP/1.1\" 200 -\n"
     ]
    },
    {
     "name": "stdout",
     "output_type": "stream",
     "text": [
      "0.5286867464177206\n",
      "0.6971779724401966> 0.6\n",
      "<<row>>Фамилия=Серов<<row>>Имя=Александр<<row>>Дата регистрации=23.05.2018 12:37:11\n"
     ]
    },
    {
     "name": "stderr",
     "output_type": "stream",
     "text": [
      "127.0.0.1 - - [23/May/2018 14:29:52] \"POST / HTTP/1.1\" 200 -\n"
     ]
    },
    {
     "name": "stdout",
     "output_type": "stream",
     "text": [
      "searchInDb\n",
      "0.5200818410000141\n",
      "0.7032236954771969> 0.6\n",
      "<<row>>Фамилия=Серов<<row>>Имя=Александр<<row>>Дата регистрации=23.05.2018 12:37:11\n"
     ]
    },
    {
     "name": "stderr",
     "output_type": "stream",
     "text": [
      "127.0.0.1 - - [23/May/2018 14:30:04] \"POST / HTTP/1.1\" 200 -\n"
     ]
    },
    {
     "name": "stdout",
     "output_type": "stream",
     "text": [
      "searchInDb\n",
      "0.5355322435194747\n",
      "0.7064160843827219> 0.6\n",
      "<<row>>Фамилия=Серов<<row>>Имя=Александр<<row>>Дата регистрации=23.05.2018 12:37:11\n",
      "searchInDb\n"
     ]
    },
    {
     "name": "stderr",
     "output_type": "stream",
     "text": [
      "127.0.0.1 - - [23/May/2018 14:30:08] \"POST / HTTP/1.1\" 200 -\n"
     ]
    },
    {
     "name": "stdout",
     "output_type": "stream",
     "text": [
      "0.5358893643268934\n",
      "0.7149027648361117> 0.6\n",
      "<<row>>Фамилия=Серов<<row>>Имя=Александр<<row>>Дата регистрации=23.05.2018 12:37:11\n",
      "searchInDb\n"
     ]
    },
    {
     "name": "stderr",
     "output_type": "stream",
     "text": [
      "127.0.0.1 - - [23/May/2018 14:30:12] \"POST / HTTP/1.1\" 200 -\n"
     ]
    },
    {
     "name": "stdout",
     "output_type": "stream",
     "text": [
      "0.5470723672681603\n",
      "0.7006590346332529> 0.6\n",
      "<<row>>Фамилия=Серов<<row>>Имя=Александр<<row>>Дата регистрации=23.05.2018 12:37:11\n",
      "appendToDb\n",
      "<<row>>=<<row>>Дата регистрации=23.05.2018 14:30:15\n",
      "<<row>>=<<row>>Дата регистрации=23.05.2018 14:30:15\n",
      "23.05.2018 14:30:15\n"
     ]
    },
    {
     "name": "stderr",
     "output_type": "stream",
     "text": [
      "127.0.0.1 - - [23/May/2018 14:30:15] \"POST / HTTP/1.1\" 200 -\n"
     ]
    },
    {
     "name": "stdout",
     "output_type": "stream",
     "text": [
      "images\\CVCJnyUP5Jn3wsjezQNF.png\n",
      "searchInDb\n"
     ]
    },
    {
     "name": "stderr",
     "output_type": "stream",
     "text": [
      "127.0.0.1 - - [23/May/2018 14:30:19] \"POST / HTTP/1.1\" 200 -\n"
     ]
    },
    {
     "name": "stdout",
     "output_type": "stream",
     "text": [
      "0.4793012717324276\n",
      "0.7127145075087269> 0.6\n",
      "0.2851302267555163\n",
      "<<row>>=<<row>>Дата регистрации=23.05.2018 14:30:15\n",
      "searchInDb\n"
     ]
    },
    {
     "name": "stderr",
     "output_type": "stream",
     "text": [
      "127.0.0.1 - - [23/May/2018 14:30:23] \"POST / HTTP/1.1\" 200 -\n"
     ]
    },
    {
     "name": "stdout",
     "output_type": "stream",
     "text": [
      "0.5104616010355387\n",
      "0.6796101786266768> 0.6\n",
      "0.3035529479679556\n",
      "<<row>>=<<row>>Дата регистрации=23.05.2018 14:30:15\n"
     ]
    },
    {
     "name": "stderr",
     "output_type": "stream",
     "text": [
      "127.0.0.1 - - [23/May/2018 14:30:37] \"GET / HTTP/1.1\" 200 -\n",
      "127.0.0.1 - - [23/May/2018 14:30:44] \"POST / HTTP/1.1\" 200 -\n"
     ]
    },
    {
     "name": "stdout",
     "output_type": "stream",
     "text": [
      "searchInDb\n",
      "\n",
      "searchInDb\n"
     ]
    },
    {
     "name": "stderr",
     "output_type": "stream",
     "text": [
      "127.0.0.1 - - [23/May/2018 14:30:47] \"POST / HTTP/1.1\" 200 -\n"
     ]
    },
    {
     "name": "stdout",
     "output_type": "stream",
     "text": [
      "0.5232947672899206\n",
      "0.6629530820152811> 0.6\n",
      "0.2637565061095601\n",
      "<<row>>=<<row>>Дата регистрации=23.05.2018 14:30:15\n",
      "fullTextSearch\n",
      "fullTextSearch<method><text>2\n",
      "1154177\n"
     ]
    },
    {
     "name": "stderr",
     "output_type": "stream",
     "text": [
      "127.0.0.1 - - [23/May/2018 14:30:50] \"POST / HTTP/1.1\" 200 -\n",
      "127.0.0.1 - - [23/May/2018 14:30:52] \"POST / HTTP/1.1\" 200 -\n"
     ]
    },
    {
     "name": "stdout",
     "output_type": "stream",
     "text": [
      "fullTextSearch\n",
      "fullTextSearch<method><text>2\n",
      "1154177\n"
     ]
    },
    {
     "name": "stderr",
     "output_type": "stream",
     "text": [
      "127.0.0.1 - - [23/May/2018 14:31:17] \"POST / HTTP/1.1\" 200 -\n"
     ]
    },
    {
     "name": "stdout",
     "output_type": "stream",
     "text": [
      "searchInDb\n",
      "0.5110774135521445\n",
      "0.7149032342380139> 0.6\n",
      "0.3421963998685601\n",
      "<<row>>=<<row>>Дата регистрации=23.05.2018 14:30:15\n"
     ]
    },
    {
     "name": "stderr",
     "output_type": "stream",
     "text": [
      "127.0.0.1 - - [23/May/2018 14:31:21] \"POST / HTTP/1.1\" 200 -\n"
     ]
    },
    {
     "name": "stdout",
     "output_type": "stream",
     "text": [
      "searchInDb\n",
      "0.5123397557919628\n",
      "0.715889737501809> 0.6\n",
      "0.3820367556936943\n",
      "<<row>>=<<row>>Дата регистрации=23.05.2018 14:30:15\n"
     ]
    },
    {
     "name": "stderr",
     "output_type": "stream",
     "text": [
      "127.0.0.1 - - [23/May/2018 14:31:53] \"POST / HTTP/1.1\" 200 -\n"
     ]
    },
    {
     "name": "stdout",
     "output_type": "stream",
     "text": [
      "searchInDb\n",
      "0.6564353758777635> 0.6\n",
      "0.6469822937476943> 0.6\n",
      "0.510966460693129\n",
      "<<row>>=<<row>>Дата регистрации=23.05.2018 14:30:15\n"
     ]
    },
    {
     "name": "stderr",
     "output_type": "stream",
     "text": [
      "127.0.0.1 - - [23/May/2018 14:31:59] \"POST / HTTP/1.1\" 200 -\n"
     ]
    },
    {
     "name": "stdout",
     "output_type": "stream",
     "text": [
      "searchInDb\n",
      "0.6727999066035583> 0.6\n",
      "0.6429181857341404> 0.6\n",
      "0.5157763195080627\n",
      "<<row>>=<<row>>Дата регистрации=23.05.2018 14:30:15\n"
     ]
    }
   ],
   "source": [
    "#! /usr/bin/python\n",
    "# -*- coding: utf-8 -*-\n",
    "\n",
    "import time\n",
    "import io\n",
    "import cv2\n",
    "import numpy\n",
    "import re\n",
    "import sqlite3\n",
    "import dlib\n",
    "import shutil\n",
    "import zipfile\n",
    "import glob\n",
    "import os\n",
    "\n",
    "\n",
    "from PIL import Image\n",
    "from http.server import BaseHTTPRequestHandler, HTTPServer\n",
    "from os import curdir\n",
    "from os.path import join as pjoin\n",
    "from scipy.spatial import distance\n",
    "from random import choice\n",
    "from string import ascii_letters\n",
    "from string import digits\n",
    "\n",
    "\n",
    "\n",
    "HOST_NAME = 'localhost' # !!!REMEMBER TO CHANGE THIS!!!\n",
    "PORT_NUMBER = 1111 # Maybe set this to 9000.\n",
    "DB_NAME = 'faces.db'\n",
    "\n",
    "def searchInDb(desc):\n",
    "    conn = sqlite3.connect(DB_NAME)\n",
    "    cursor = conn.cursor()\n",
    "    selectedData = []\n",
    "    sel = cursor.execute(\"select id, desc from face\")\n",
    "    targetIndex = 0\n",
    "    for line in sel:\n",
    "        if len(desc) != 0:\n",
    "            euclidianDistanse = distance.euclidean(numpy.array(line[1].split('||'), dtype=float), numpy.array(desc.split('||'), dtype=float))\n",
    "            if euclidianDistanse < 0.6:\n",
    "                targetIndex = line[0]\n",
    "                print(euclidianDistanse)\n",
    "            else:\n",
    "                print(str(euclidianDistanse) + '> 0.6')\n",
    "    \n",
    "    result = ''\n",
    "    if targetIndex!=0:\n",
    "        sel = cursor.execute(\"select rawstring from face where id=?\", [targetIndex])\n",
    "        for line in sel:\n",
    "            result = line[0]    \n",
    "    conn.close()\n",
    "    return result\n",
    "\n",
    "def create_key():\n",
    "    key = \"\".join(choice(ascii_letters + digits) for i in range(20))\n",
    "    return key\n",
    "\n",
    "def appendToDb(keywords, rawstring, desc, image):\n",
    "    if desc != '':\n",
    "        conn = sqlite3.connect(DB_NAME)\n",
    "        cursor = conn.cursor()\n",
    "        sel = cursor.execute(\"SELECT key FROM face\")\n",
    "        sel_list = [i[0] for i in sel]\n",
    "        key = create_key()\n",
    "        if sel_list.count(key) > 1:\n",
    "            while True:\n",
    "                key = create_key()\n",
    "                if sel_list.count(key) == 1:\n",
    "                    break\n",
    "        \n",
    "        ins = cursor.execute(\"INSERT INTO face (rawstring, keywords, date, desc, key) VALUES( ?, ?, ?, ?, ?)\",\n",
    "                         (rawstring, keywords[0], keywords[1], desc, key))\n",
    "        conn.commit()\n",
    "        conn.close()\n",
    "        image_name = 'images\\\\%s.png' % key \n",
    "        print(image_name)\n",
    "        cv2.imwrite(image_name, image)\n",
    "\n",
    "def getDescriptor(img):\n",
    "    gray = cv2.cvtColor(img, cv2.COLOR_BGR2GRAY)\n",
    "    detector = dlib.get_frontal_face_detector()\n",
    "    dets = detector(gray, 1)\n",
    "    sp = dlib.shape_predictor('shape_predictor_68_face_landmarks.dat')\n",
    "    facerec = dlib.face_recognition_model_v1('dlib_face_recognition_resnet_model_v1.dat')\n",
    "    faceDescriptor = ''\n",
    "    for i, d in enumerate(dets):\n",
    "            if len(dets) != 2:\n",
    "                shape = sp(img, d)\n",
    "                faceDescriptor += str(facerec.compute_face_descriptor(img, shape)).replace('\\n', '||')\n",
    "                if i != len(dets) - 1:\n",
    "                    faceDescriptor += '\\n'\n",
    "    return faceDescriptor\n",
    "\n",
    "def parseDataFromPost(stringToParse):\n",
    "    print(stringToParse)\n",
    "    keywords = \"\"\n",
    "    date = \"\"\n",
    "    splitted = stringToParse.split('<<row>>')\n",
    "    for line in splitted:\n",
    "        if line != '':\n",
    "            keywords += line.split('=')[1] + '<<key>>' \n",
    "            if line.split('=')[0] == \"Дата регистрации\":\n",
    "                date = line.split('=')[1]\n",
    "    print(date)\n",
    "    return keywords, date\n",
    "\n",
    "def countOfRowsInDB():\n",
    "    conn = sqlite3.connect(DB_NAME)\n",
    "    cursor = conn.cursor()\n",
    "    count = 0\n",
    "    res = cursor.execute(\"SELECT COUNT(*) FROM face\")\n",
    "    for line in res:\n",
    "        count = line\n",
    "    conn.close()\n",
    "    return count[0]\n",
    "\n",
    "def textSearchingInDB(searchString):\n",
    "    conn = sqlite3.connect(DB_NAME)\n",
    "    cursor = conn.cursor()\n",
    "    results = []\n",
    "    res = cursor.execute(\"SELECT id, keywords FROM face\")\n",
    "    full_select = [line[::1] for line in res]\n",
    "    conn.close()\n",
    "#     print(full_select)\n",
    "    for line in full_select:\n",
    "        if re.search(searchString.upper(), line[1].upper()):\n",
    "            results.append(line[0])\n",
    "    if len(results) == 0:\n",
    "        return(0)\n",
    "    else:\n",
    "        return(results)\n",
    "\n",
    "def prepare_searched_result(searchString):\n",
    "    searched_results = textSearchingInDB(searchString)\n",
    "    result = []\n",
    "    images_names = []\n",
    "    ids = []\n",
    "    if searched_results != 0:\n",
    "        for line in searched_results:\n",
    "            conn = sqlite3.connect(DB_NAME)\n",
    "            cursor = conn.cursor()\n",
    "            sel = cursor.execute(\"select rawstring, key, id from face where id=?\", [line])\n",
    "            sel = [i for i in sel]\n",
    "            result.append([i[0] for i in sel])\n",
    "            images_names.append([i[1] for i in sel])\n",
    "            ids.append([i[2] for i in sel])\n",
    "            conn.close()\n",
    "        return result, images_names, ids\n",
    "    else:\n",
    "        return result, images_names, ids\n",
    "\n",
    "def prepare_searched_response(searchString):\n",
    "    string, image_names, ids = prepare_searched_result(searchString)\n",
    "    images_bytes = []\n",
    "    file_names = []\n",
    "    result = b''\n",
    "    \n",
    "    if len(string) != 0 and len(image_names) != 0 and len(ids) !=0:\n",
    "        for i, line in enumerate(image_names):\n",
    "            shutil.copy('images\\\\' + line[0] + '.png', 'archive_dir\\\\' + line[0] + '.png')\n",
    "            filename = line[0] + '.png'\n",
    "            file_names.append('archive_dir\\\\' + filename)\n",
    "            result += str(ids[i][0]).encode(\"utf-8\") + b'<id>' + string[i][0].encode(\"utf-8\") + b'<filename>' + filename.encode(\"utf-8\") + b'<end>'\n",
    "        with zipfile.ZipFile('archive_dir\\\\file.zip', 'w') as myzip:\n",
    "            for line in file_names:\n",
    "                myzip.write(line)\n",
    "        file = open('archive_dir\\\\file.zip', 'rb')\n",
    "        file_bytes = file.read()\n",
    "        file.close()\n",
    "        print(len(file_bytes))\n",
    "        files = glob.glob('archive_dir\\\\*')\n",
    "        for f in files:\n",
    "            os.remove(f)\n",
    "        return file_bytes, result.decode('unicode-escape').encode('ISO-8859-1')\n",
    "    else:\n",
    "        return file_names, result.decode('unicode-escape').encode('ISO-8859-1')\n",
    "\n",
    "def delete_record(request_string):\n",
    "    print(request_string)\n",
    "    conn = sqlite3.connect(DB_NAME)\n",
    "    cursor = conn.cursor()\n",
    "    sel = cursor.execute(\"select key from face where id=?\", (request_string,))\n",
    "    filename = ([i[0] for i in sel])\n",
    "    delete = cursor.execute(\"DELETE FROM face WHERE id=?\", (request_string,))\n",
    "    conn.commit()\n",
    "    conn.close()\n",
    "    os.remove('images\\\\' + filename[0] + '.png')\n",
    "    return '<OK>'\n",
    "\n",
    "def update_record(request_string):\n",
    "    request_string = request_string.split('<id>')\n",
    "    keywords, date = parseDataFromPost(request_string[0])\n",
    "    id_in_db = request_string[1]\n",
    "    conn = sqlite3.connect(DB_NAME)\n",
    "    cursor = conn.cursor()\n",
    "    upd = cursor.execute(\"UPDATE face SET rawstring = ?, keywords = ?, date = ? WHERE id = ?\",\n",
    "                         (request_string[0], keywords, date, id_in_db))\n",
    "    conn.commit()\n",
    "    conn.close()\n",
    "    return \"<OK>\"\n",
    "    \n",
    "    \n",
    "class MyHandler(BaseHTTPRequestHandler):\n",
    "    store_path = pjoin(curdir, '1.jpg')\n",
    "    \n",
    "    def _set_headers(self):\n",
    "        \n",
    "        self.send_response(200)\n",
    "        self.send_header('Content-type', 'text/html')\n",
    "        self.end_headers()\n",
    "\n",
    "    def do_GET(self):\n",
    "        \n",
    "        self._set_headers()\n",
    "        countRows = countOfRowsInDB()\n",
    "        responseString = str(countRows)\n",
    "        self.wfile.write(responseString.encode())\n",
    "        \n",
    "\n",
    "    def do_HEAD(self):\n",
    "        self._set_headers()\n",
    "        \n",
    "    def do_POST(self):\n",
    "        \n",
    "        # Doesn't do anything with posted data\n",
    "        self._set_headers()\n",
    "        params = self.rfile.read(int(self.headers['Content-Length']))\n",
    "        paramsSplit = params.split(b'<image>')\n",
    "        method = paramsSplit[0].split(b'<method>')[0].decode()\n",
    "        print(method)\n",
    "        \n",
    "        \n",
    "        if method == 'appendToDb':\n",
    "            dataString = paramsSplit[0].split(b'<method>')[1].decode()\n",
    "            print(dataString)\n",
    "            keywordsAndDate = parseDataFromPost(dataString)\n",
    "            img = Image.open(io.BytesIO(paramsSplit[1]))\n",
    "            image = cv2.cvtColor(numpy.array(img), cv2.COLOR_BGR2RGB)\n",
    "            desc = getDescriptor(image)\n",
    "            appendToDb(keywordsAndDate, dataString, desc, image)\n",
    "            self.wfile.write(\"Succsess POST\".encode())\n",
    "            \n",
    "        elif method == 'searchInDb':\n",
    "            imbyte = params.split(b'<method>')[1]\n",
    "            img = Image.open(io.BytesIO(imbyte))\n",
    "            image = cv2.cvtColor(numpy.array(img), cv2.COLOR_BGR2RGB)\n",
    "            desc = getDescriptor(image)\n",
    "            searched = searchInDb(desc)\n",
    "            print(searched)\n",
    "            sendingString = \"Succsess POST<content>\" + searched\n",
    "            self.wfile.write(bytes(str(len(sendingString)) + \"<length>\" + sendingString, 'utf-8').decode('unicode-escape').encode('ISO-8859-1'))        \n",
    "\n",
    "        \n",
    "        elif method == 'fullTextSearch':\n",
    "            print(str(params.decode()))\n",
    "            searchString = str(params.decode()).split('<text>')[1]\n",
    "            file_bytes, byte_result = prepare_searched_response(searchString)\n",
    "            \n",
    "            if len(file_bytes) != 0 and len(byte_result) != 0:\n",
    "                self.wfile.write(file_bytes + b'<textBegin>' + byte_result)\n",
    "            \n",
    "            else:\n",
    "                self.wfile.write(b'<NOTFOUND>')\n",
    "                \n",
    "        elif method == 'delete_record':\n",
    "            print(str(params.decode()))\n",
    "            returned_string = delete_record(str(params.decode()).split(\"<text>\")[1])\n",
    "            self.wfile.write(returned_string.encode())\n",
    "            \n",
    "        elif method == 'update_record':\n",
    "            print(str(params.decode()))\n",
    "            returned_string = update_record(str(params.decode()).split(\"<text>\")[1])\n",
    "            self.wfile.write(returned_string.encode())\n",
    "            \n",
    "if __name__ == '__main__':\n",
    "    server_class = HTTPServer\n",
    "    httpd = server_class((HOST_NAME, PORT_NUMBER), MyHandler)\n",
    "    print(time.asctime(), \"Server Starts - %s:%s\" % (HOST_NAME, PORT_NUMBER))\n",
    "    try:\n",
    "        httpd.serve_forever()\n",
    "    except KeyboardInterrupt:\n",
    "        pass\n",
    "    httpd.server_close()\n",
    "    print(time.asctime(), \"Server Stops - %s:%s\" % (HOST_NAME, PORT_NUMBER))"
   ]
  }
 ],
 "metadata": {
  "kernelspec": {
   "display_name": "Python 3",
   "language": "python",
   "name": "python3"
  },
  "language_info": {
   "codemirror_mode": {
    "name": "ipython",
    "version": 3
   },
   "file_extension": ".py",
   "mimetype": "text/x-python",
   "name": "python",
   "nbconvert_exporter": "python",
   "pygments_lexer": "ipython3",
   "version": "3.6.3"
  }
 },
 "nbformat": 4,
 "nbformat_minor": 2
}
