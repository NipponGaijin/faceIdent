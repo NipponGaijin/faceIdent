{
 "cells": [
  {
   "cell_type": "code",
   "execution_count": 13,
   "metadata": {
    "scrolled": true
   },
   "outputs": [
    {
     "name": "stdout",
     "output_type": "stream",
     "text": [
      "Tue Apr 24 19:22:03 2018 Server Starts - localhost:1111\n"
     ]
    },
    {
     "name": "stderr",
     "output_type": "stream",
     "text": [
      "127.0.0.1 - - [24/Apr/2018 19:22:33] \"GET / HTTP/1.1\" 200 -\n",
      "127.0.0.1 - - [24/Apr/2018 19:22:43] \"POST / HTTP/1.1\" 200 -\n"
     ]
    },
    {
     "name": "stdout",
     "output_type": "stream",
     "text": [
      "fullTextSearch\n",
      "fullTextSearch<method><text>александр\n"
     ]
    },
    {
     "name": "stderr",
     "output_type": "stream",
     "text": [
      "127.0.0.1 - - [24/Apr/2018 19:23:52] \"GET / HTTP/1.1\" 200 -\n",
      "127.0.0.1 - - [24/Apr/2018 19:23:57] \"POST / HTTP/1.1\" 200 -\n"
     ]
    },
    {
     "name": "stdout",
     "output_type": "stream",
     "text": [
      "fullTextSearch\n",
      "fullTextSearch<method><text>a\n"
     ]
    },
    {
     "name": "stderr",
     "output_type": "stream",
     "text": [
      "127.0.0.1 - - [24/Apr/2018 19:24:05] \"POST / HTTP/1.1\" 200 -\n"
     ]
    },
    {
     "name": "stdout",
     "output_type": "stream",
     "text": [
      "fullTextSearch\n",
      "fullTextSearch<method><text>Александр\n"
     ]
    },
    {
     "name": "stderr",
     "output_type": "stream",
     "text": [
      "127.0.0.1 - - [24/Apr/2018 19:24:08] \"POST / HTTP/1.1\" 200 -\n"
     ]
    },
    {
     "name": "stdout",
     "output_type": "stream",
     "text": [
      "fullTextSearch\n",
      "fullTextSearch<method><text>Александ\n",
      "543180\n"
     ]
    },
    {
     "name": "stderr",
     "output_type": "stream",
     "text": [
      "127.0.0.1 - - [24/Apr/2018 19:24:17] \"POST / HTTP/1.1\" 200 -\n"
     ]
    },
    {
     "name": "stdout",
     "output_type": "stream",
     "text": [
      "searchInDb\n",
      "0.4937647053803681\n",
      "<<row>>Имя=Александ<<row>>Дата регистрации=24.04.2018 18:28:56<<row>>Дата обновления=24.04.2018 19:21:03\n"
     ]
    },
    {
     "name": "stderr",
     "output_type": "stream",
     "text": [
      "127.0.0.1 - - [24/Apr/2018 19:24:21] \"POST / HTTP/1.1\" 200 -\n"
     ]
    },
    {
     "name": "stdout",
     "output_type": "stream",
     "text": [
      "searchInDb\n",
      "0.3544328878061511\n",
      "<<row>>Имя=Александ<<row>>Дата регистрации=24.04.2018 18:28:56<<row>>Дата обновления=24.04.2018 19:21:03\n"
     ]
    },
    {
     "name": "stderr",
     "output_type": "stream",
     "text": [
      "127.0.0.1 - - [24/Apr/2018 19:26:18] \"GET / HTTP/1.1\" 200 -\n",
      "127.0.0.1 - - [24/Apr/2018 19:30:23] \"POST / HTTP/1.1\" 200 -\n"
     ]
    },
    {
     "name": "stdout",
     "output_type": "stream",
     "text": [
      "searchInDb\n",
      "0.377258300541245\n",
      "<<row>>Имя=Александ<<row>>Дата регистрации=24.04.2018 18:28:56<<row>>Дата обновления=24.04.2018 19:21:03\n",
      "appendToDb\n",
      "<<row>>Имя=<<row>>Фамилия=<<row>>Телефон=<<row>>e-mail=<<row>>Дата регистрации=24.04.2018 19:30:25\n",
      "<<row>>Имя=<<row>>Фамилия=<<row>>Телефон=<<row>>e-mail=<<row>>Дата регистрации=24.04.2018 19:30:25\n",
      "24.04.2018 19:30:25\n"
     ]
    },
    {
     "name": "stderr",
     "output_type": "stream",
     "text": [
      "127.0.0.1 - - [24/Apr/2018 19:30:27] \"POST / HTTP/1.1\" 200 -\n"
     ]
    },
    {
     "name": "stdout",
     "output_type": "stream",
     "text": [
      "images\\SWGBkWJdqEi14MlOZpSo.png\n"
     ]
    },
    {
     "name": "stderr",
     "output_type": "stream",
     "text": [
      "127.0.0.1 - - [24/Apr/2018 19:30:32] \"POST / HTTP/1.1\" 200 -\n"
     ]
    },
    {
     "name": "stdout",
     "output_type": "stream",
     "text": [
      "searchInDb\n",
      "0.38521753865049974\n",
      "0.2718415375477507\n",
      "<<row>>Имя=<<row>>Фамилия=<<row>>Телефон=<<row>>e-mail=<<row>>Дата регистрации=24.04.2018 19:30:25\n"
     ]
    },
    {
     "name": "stderr",
     "output_type": "stream",
     "text": [
      "127.0.0.1 - - [24/Apr/2018 19:30:37] \"GET / HTTP/1.1\" 200 -\n",
      "127.0.0.1 - - [24/Apr/2018 19:30:43] \"POST / HTTP/1.1\" 200 -\n"
     ]
    },
    {
     "name": "stdout",
     "output_type": "stream",
     "text": [
      "fullTextSearch\n",
      "fullTextSearch<method><text>2\n",
      "984977\n"
     ]
    },
    {
     "name": "stderr",
     "output_type": "stream",
     "text": [
      "127.0.0.1 - - [24/Apr/2018 19:31:04] \"POST / HTTP/1.1\" 200 -\n"
     ]
    },
    {
     "name": "stdout",
     "output_type": "stream",
     "text": [
      "update_record\n",
      "update_record<method><text><<row>>Имя=Александр<<row>>Фамилия=Серов<<row>>Телефон=фффффффф<<row>>e-mail=фффффф<<row>>Дата регистрации=24.04.2018 19:30:25<<row>>Дата обновления=24.04.2018 19:31:04<id>3032\n",
      "<<row>>Имя=Александр<<row>>Фамилия=Серов<<row>>Телефон=фффффффф<<row>>e-mail=фффффф<<row>>Дата регистрации=24.04.2018 19:30:25<<row>>Дата обновления=24.04.2018 19:31:04\n",
      "24.04.2018 19:30:25\n"
     ]
    },
    {
     "name": "stderr",
     "output_type": "stream",
     "text": [
      "127.0.0.1 - - [24/Apr/2018 19:31:08] \"GET / HTTP/1.1\" 200 -\n",
      "127.0.0.1 - - [24/Apr/2018 19:31:10] \"POST / HTTP/1.1\" 200 -\n"
     ]
    },
    {
     "name": "stdout",
     "output_type": "stream",
     "text": [
      "fullTextSearch\n",
      "fullTextSearch<method><text>2\n",
      "984977\n"
     ]
    },
    {
     "name": "stderr",
     "output_type": "stream",
     "text": [
      "127.0.0.1 - - [24/Apr/2018 19:31:38] \"POST / HTTP/1.1\" 200 -\n"
     ]
    },
    {
     "name": "stdout",
     "output_type": "stream",
     "text": [
      "fullTextSearch\n",
      "fullTextSearch<method><text>Серов\n",
      "441819\n"
     ]
    },
    {
     "name": "stderr",
     "output_type": "stream",
     "text": [
      "127.0.0.1 - - [24/Apr/2018 19:32:18] \"GET / HTTP/1.1\" 200 -\n"
     ]
    },
    {
     "name": "stdout",
     "output_type": "stream",
     "text": [
      "Tue Apr 24 19:39:56 2018 Server Stops - localhost:1111\n"
     ]
    }
   ],
   "source": [
    "#! /usr/bin/python\n",
    "# -*- coding: utf-8 -*-\n",
    "\n",
    "import time\n",
    "import io\n",
    "import cv2\n",
    "import numpy\n",
    "import re\n",
    "import sqlite3\n",
    "import dlib\n",
    "import shutil\n",
    "import zipfile\n",
    "import glob\n",
    "import os\n",
    "\n",
    "\n",
    "from PIL import Image\n",
    "from http.server import BaseHTTPRequestHandler, HTTPServer\n",
    "from os import curdir\n",
    "from os.path import join as pjoin\n",
    "from scipy.spatial import distance\n",
    "from random import choice\n",
    "from string import ascii_letters\n",
    "from string import digits\n",
    "\n",
    "\n",
    "\n",
    "HOST_NAME = 'localhost' # !!!REMEMBER TO CHANGE THIS!!!\n",
    "PORT_NUMBER = 1111 # Maybe set this to 9000.\n",
    "DB_NAME = 'faces.db'\n",
    "\n",
    "def searchInDb(desc):\n",
    "    conn = sqlite3.connect(DB_NAME)\n",
    "    cursor = conn.cursor()\n",
    "    selectedData = []\n",
    "    sel = cursor.execute(\"select id, desc from face\")\n",
    "    targetIndex = 0\n",
    "    for line in sel:\n",
    "        if len(desc) != 0:\n",
    "            euclidianDistanse = distance.euclidean(numpy.array(line[1].split('||'), dtype=float), numpy.array(desc.split('||'), dtype=float))\n",
    "            if euclidianDistanse < 0.6:\n",
    "                targetIndex = line[0]\n",
    "                print(euclidianDistanse)\n",
    "            else:\n",
    "                print(str(euclidianDistanse) + '> 0.6')\n",
    "    \n",
    "    result = ''\n",
    "    if targetIndex!=0:\n",
    "        sel = cursor.execute(\"select rawstring from face where id=?\", [targetIndex])\n",
    "        for line in sel:\n",
    "            result = line[0]    \n",
    "    conn.close()\n",
    "    return result\n",
    "\n",
    "def create_key():\n",
    "    key = \"\".join(choice(ascii_letters + digits) for i in range(20))\n",
    "    return key\n",
    "\n",
    "def appendToDb(keywords, rawstring, desc, image):\n",
    "    if desc != '':\n",
    "        conn = sqlite3.connect(DB_NAME)\n",
    "        cursor = conn.cursor()\n",
    "        sel = cursor.execute(\"SELECT key FROM face\")\n",
    "        sel_list = [i[0] for i in sel]\n",
    "        key = create_key()\n",
    "        if sel_list.count(key) > 1:\n",
    "            while True:\n",
    "                key = create_key()\n",
    "                if sel_list.count(key) == 1:\n",
    "                    break\n",
    "        \n",
    "        ins = cursor.execute(\"INSERT INTO face (rawstring, keywords, date, desc, key) VALUES( ?, ?, ?, ?, ?)\",\n",
    "                         (rawstring, keywords[0], keywords[1], desc, key))\n",
    "        conn.commit()\n",
    "        conn.close()\n",
    "        image_name = 'images\\\\%s.png' % key \n",
    "        print(image_name)\n",
    "        cv2.imwrite(image_name, image)\n",
    "\n",
    "def getDescriptor(img):\n",
    "    gray = cv2.cvtColor(img, cv2.COLOR_BGR2GRAY)\n",
    "    detector = dlib.get_frontal_face_detector()\n",
    "    dets = detector(gray, 1)\n",
    "    sp = dlib.shape_predictor('shape_predictor_68_face_landmarks.dat')\n",
    "    facerec = dlib.face_recognition_model_v1('dlib_face_recognition_resnet_model_v1.dat')\n",
    "    faceDescriptor = ''\n",
    "    for i, d in enumerate(dets):\n",
    "            if len(dets) != 2:\n",
    "                shape = sp(img, d)\n",
    "                faceDescriptor += str(facerec.compute_face_descriptor(img, shape)).replace('\\n', '||')\n",
    "                if i != len(dets) - 1:\n",
    "                    faceDescriptor += '\\n'\n",
    "    return faceDescriptor\n",
    "\n",
    "def parseDataFromPost(stringToParse):\n",
    "    print(stringToParse)\n",
    "    keywords = \"\"\n",
    "    date = \"\"\n",
    "    splitted = stringToParse.split('<<row>>')\n",
    "    for line in splitted:\n",
    "        if line != '':\n",
    "            keywords += line.split('=')[1] + '<<key>>' \n",
    "            if line.split('=')[0] == \"Дата регистрации\":\n",
    "                date = line.split('=')[1]\n",
    "    print(date)\n",
    "    return keywords, date\n",
    "\n",
    "def countOfRowsInDB():\n",
    "    conn = sqlite3.connect(DB_NAME)\n",
    "    cursor = conn.cursor()\n",
    "    count = 0\n",
    "    res = cursor.execute(\"SELECT COUNT(*) FROM face\")\n",
    "    for line in res:\n",
    "        count = line\n",
    "    conn.close()\n",
    "    return count[0]\n",
    "\n",
    "def textSearchingInDB(searchString):\n",
    "    conn = sqlite3.connect(DB_NAME)\n",
    "    cursor = conn.cursor()\n",
    "    results = []\n",
    "    res = cursor.execute(\"SELECT id, keywords FROM face\")\n",
    "    full_select = [line[::1] for line in res]\n",
    "    conn.close()\n",
    "#     print(full_select)\n",
    "    for line in full_select:\n",
    "        if re.search(searchString.upper(), line[1].upper()):\n",
    "            results.append(line[0])\n",
    "    if len(results) == 0:\n",
    "        return(0)\n",
    "    else:\n",
    "        return(results)\n",
    "\n",
    "def prepare_searched_result(searchString):\n",
    "    searched_results = textSearchingInDB(searchString)\n",
    "    result = []\n",
    "    images_names = []\n",
    "    ids = []\n",
    "    if searched_results != 0:\n",
    "        for line in searched_results:\n",
    "            conn = sqlite3.connect(DB_NAME)\n",
    "            cursor = conn.cursor()\n",
    "            sel = cursor.execute(\"select rawstring, key, id from face where id=?\", [line])\n",
    "            sel = [i for i in sel]\n",
    "            result.append([i[0] for i in sel])\n",
    "            images_names.append([i[1] for i in sel])\n",
    "            ids.append([i[2] for i in sel])\n",
    "            conn.close()\n",
    "        return result, images_names, ids\n",
    "    else:\n",
    "        return result, images_names, ids\n",
    "\n",
    "def prepare_searched_response(searchString):\n",
    "    string, image_names, ids = prepare_searched_result(searchString)\n",
    "    images_bytes = []\n",
    "    file_names = []\n",
    "    result = b''\n",
    "    \n",
    "    if len(string) != 0 and len(image_names) != 0 and len(ids) !=0:\n",
    "        for i, line in enumerate(image_names):\n",
    "            shutil.copy('images\\\\' + line[0] + '.png', 'archive_dir\\\\' + line[0] + '.png')\n",
    "            filename = line[0] + '.png'\n",
    "            file_names.append('archive_dir\\\\' + filename)\n",
    "            result += str(ids[i][0]).encode(\"utf-8\") + b'<id>' + string[i][0].encode(\"utf-8\") + b'<filename>' + filename.encode(\"utf-8\") + b'<end>'\n",
    "        with zipfile.ZipFile('archive_dir\\\\file.zip', 'w') as myzip:\n",
    "            for line in file_names:\n",
    "                myzip.write(line)\n",
    "        file = open('archive_dir\\\\file.zip', 'rb')\n",
    "        file_bytes = file.read()\n",
    "        file.close()\n",
    "        print(len(file_bytes))\n",
    "        files = glob.glob('archive_dir\\\\*')\n",
    "        for f in files:\n",
    "            os.remove(f)\n",
    "        return file_bytes, result.decode('unicode-escape').encode('ISO-8859-1')\n",
    "    else:\n",
    "        return file_names, result.decode('unicode-escape').encode('ISO-8859-1')\n",
    "\n",
    "def delete_record(request_string):\n",
    "    print(request_string)\n",
    "    conn = sqlite3.connect(DB_NAME)\n",
    "    cursor = conn.cursor()\n",
    "    sel = cursor.execute(\"select key from face where id=?\", (request_string,))\n",
    "    filename = ([i[0] for i in sel])\n",
    "    delete = cursor.execute(\"DELETE FROM face WHERE id=?\", (request_string,))\n",
    "    conn.commit()\n",
    "    conn.close()\n",
    "    os.remove('images\\\\' + filename[0] + '.png')\n",
    "    return '<OK>'\n",
    "\n",
    "def update_record(request_string):\n",
    "    request_string = request_string.split('<id>')\n",
    "    keywords, date = parseDataFromPost(request_string[0])\n",
    "    id_in_db = request_string[1]\n",
    "    conn = sqlite3.connect(DB_NAME)\n",
    "    cursor = conn.cursor()\n",
    "    upd = cursor.execute(\"UPDATE face SET rawstring = ?, keywords = ?, date = ? WHERE id = ?\",\n",
    "                         (request_string[0], keywords, date, id_in_db))\n",
    "    conn.commit()\n",
    "    conn.close()\n",
    "    return \"<OK>\"\n",
    "    \n",
    "    \n",
    "class MyHandler(BaseHTTPRequestHandler):\n",
    "    store_path = pjoin(curdir, '1.jpg')\n",
    "    \n",
    "    def _set_headers(self):\n",
    "        \n",
    "        self.send_response(200)\n",
    "        self.send_header('Content-type', 'text/html')\n",
    "        self.end_headers()\n",
    "\n",
    "    def do_GET(self):\n",
    "        \n",
    "        self._set_headers()\n",
    "        countRows = countOfRowsInDB()\n",
    "        responseString = str(countRows)\n",
    "        self.wfile.write(responseString.encode())\n",
    "        \n",
    "\n",
    "    def do_HEAD(self):\n",
    "        self._set_headers()\n",
    "        \n",
    "    def do_POST(self):\n",
    "        \n",
    "        # Doesn't do anything with posted data\n",
    "        self._set_headers()\n",
    "        params = self.rfile.read(int(self.headers['Content-Length']))\n",
    "        paramsSplit = params.split(b'<image>')\n",
    "        method = paramsSplit[0].split(b'<method>')[0].decode()\n",
    "        print(method)\n",
    "        \n",
    "        \n",
    "        if method == 'appendToDb':\n",
    "            dataString = paramsSplit[0].split(b'<method>')[1].decode()\n",
    "            print(dataString)\n",
    "            keywordsAndDate = parseDataFromPost(dataString)\n",
    "            img = Image.open(io.BytesIO(paramsSplit[1]))\n",
    "            image = cv2.cvtColor(numpy.array(img), cv2.COLOR_BGR2RGB)\n",
    "            desc = getDescriptor(image)\n",
    "            appendToDb(keywordsAndDate, dataString, desc, image)\n",
    "            self.wfile.write(\"Succsess POST\".encode())\n",
    "            \n",
    "        elif method == 'searchInDb':\n",
    "            imbyte = params.split(b'<method>')[1]\n",
    "            img = Image.open(io.BytesIO(imbyte))\n",
    "            image = cv2.cvtColor(numpy.array(img), cv2.COLOR_BGR2RGB)\n",
    "            desc = getDescriptor(image)\n",
    "            searched = searchInDb(desc)\n",
    "            print(searched)\n",
    "            sendingString = \"Succsess POST<content>\" + searched\n",
    "            self.wfile.write(bytes(str(len(sendingString)) + \"<length>\" + sendingString, 'utf-8').decode('unicode-escape').encode('ISO-8859-1'))        \n",
    "\n",
    "        \n",
    "        elif method == 'fullTextSearch':\n",
    "            print(str(params.decode()))\n",
    "            searchString = str(params.decode()).split('<text>')[1]\n",
    "            file_bytes, byte_result = prepare_searched_response(searchString)\n",
    "            \n",
    "            if len(file_bytes) != 0 and len(byte_result) != 0:\n",
    "                self.wfile.write(file_bytes + b'<textBegin>' + byte_result)\n",
    "            \n",
    "            else:\n",
    "                self.wfile.write(b'<NOTFOUND>')\n",
    "                \n",
    "        elif method == 'delete_record':\n",
    "            print(str(params.decode()))\n",
    "            returned_string = delete_record(str(params.decode()).split(\"<text>\")[1])\n",
    "            self.wfile.write(returned_string.encode())\n",
    "            \n",
    "        elif method == 'update_record':\n",
    "            print(str(params.decode()))\n",
    "            returned_string = update_record(str(params.decode()).split(\"<text>\")[1])\n",
    "            self.wfile.write(returned_string.encode())\n",
    "            \n",
    "if __name__ == '__main__':\n",
    "    server_class = HTTPServer\n",
    "    httpd = server_class((HOST_NAME, PORT_NUMBER), MyHandler)\n",
    "    print(time.asctime(), \"Server Starts - %s:%s\" % (HOST_NAME, PORT_NUMBER))\n",
    "    try:\n",
    "        httpd.serve_forever()\n",
    "    except KeyboardInterrupt:\n",
    "        pass\n",
    "    httpd.server_close()\n",
    "    print(time.asctime(), \"Server Stops - %s:%s\" % (HOST_NAME, PORT_NUMBER))"
   ]
  }
 ],
 "metadata": {
  "kernelspec": {
   "display_name": "Python 3",
   "language": "python",
   "name": "python3"
  },
  "language_info": {
   "codemirror_mode": {
    "name": "ipython",
    "version": 3
   },
   "file_extension": ".py",
   "mimetype": "text/x-python",
   "name": "python",
   "nbconvert_exporter": "python",
   "pygments_lexer": "ipython3",
   "version": "3.6.3"
  }
 },
 "nbformat": 4,
 "nbformat_minor": 2
}
